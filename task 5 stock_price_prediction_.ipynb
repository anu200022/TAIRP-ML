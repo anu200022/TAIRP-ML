{
  "cells": [
    {
      "cell_type": "code",
      "execution_count": 1,
      "id": "c159c9cf",
      "metadata": {
        "execution": {
          "iopub.execute_input": "2022-10-27T08:44:02.572997Z",
          "iopub.status.busy": "2022-10-27T08:44:02.572218Z",
          "iopub.status.idle": "2022-10-27T08:44:02.581661Z",
          "shell.execute_reply": "2022-10-27T08:44:02.580912Z"
        },
        "id": "c159c9cf",
        "papermill": {
          "duration": 0.022769,
          "end_time": "2022-10-27T08:44:02.584327",
          "exception": false,
          "start_time": "2022-10-27T08:44:02.561558",
          "status": "completed"
        },
        "tags": []
      },
      "outputs": [],
      "source": [
        "# importing packages\n",
        "import pandas as pd\n",
        "import numpy as np\n",
        "import matplotlib.pyplot as plt"
      ]
    },
    {
      "cell_type": "code",
      "execution_count": 2,
      "id": "cb72f5c6",
      "metadata": {
        "execution": {
          "iopub.execute_input": "2022-10-27T08:44:02.602681Z",
          "iopub.status.busy": "2022-10-27T08:44:02.602015Z",
          "iopub.status.idle": "2022-10-27T08:44:03.022417Z",
          "shell.execute_reply": "2022-10-27T08:44:03.021474Z"
        },
        "id": "cb72f5c6",
        "papermill": {
          "duration": 0.434337,
          "end_time": "2022-10-27T08:44:03.026679",
          "exception": false,
          "start_time": "2022-10-27T08:44:02.592342",
          "status": "completed"
        },
        "tags": [],
        "colab": {
          "base_uri": "https://localhost:8080/",
          "height": 423
        },
        "outputId": "12c6e185-b992-4e96-d075-217ebd03be9f"
      },
      "outputs": [
        {
          "output_type": "execute_result",
          "data": {
            "text/plain": [
              "            Date         Open         High          Low        Close  \\\n",
              "0     2004-08-27   122.800003   122.800003   119.820000   120.332497   \n",
              "1     2004-08-30   121.237503   123.750000   120.625000   123.345001   \n",
              "2     2004-08-31   123.312500   123.750000   122.000000   123.512497   \n",
              "3     2004-09-01   123.750000   124.375000   122.949997   123.487503   \n",
              "4     2004-09-02   123.737503   125.574997   123.250000   124.207497   \n",
              "...          ...          ...          ...          ...          ...   \n",
              "4489  2022-10-18  3150.000000  3155.350098  3128.550049  3144.699951   \n",
              "4490  2022-10-19  3159.000000  3159.000000  3112.000000  3121.850098   \n",
              "4491  2022-10-20  3105.000000  3160.000000  3105.000000  3157.300049   \n",
              "4492  2022-10-21  3157.800049  3160.399902  3127.000000  3137.399902   \n",
              "4493  2022-10-24  3170.100098  3178.000000  3155.000000  3161.699951   \n",
              "\n",
              "        Adj Close      Volume  \n",
              "0       88.088272  30646000.0  \n",
              "1       90.293549  24465208.0  \n",
              "2       90.416122  21194656.0  \n",
              "3       90.397820  19935544.0  \n",
              "4       90.924896  21356352.0  \n",
              "...           ...         ...  \n",
              "4489  3144.699951   1793722.0  \n",
              "4490  3121.850098   1194289.0  \n",
              "4491  3157.300049   1587601.0  \n",
              "4492  3137.399902   1021913.0  \n",
              "4493  3161.699951    260949.0  \n",
              "\n",
              "[4494 rows x 7 columns]"
            ],
            "text/html": [
              "\n",
              "  <div id=\"df-ef0c0ac1-7555-440f-8fe2-c8204efce48f\" class=\"colab-df-container\">\n",
              "    <div>\n",
              "<style scoped>\n",
              "    .dataframe tbody tr th:only-of-type {\n",
              "        vertical-align: middle;\n",
              "    }\n",
              "\n",
              "    .dataframe tbody tr th {\n",
              "        vertical-align: top;\n",
              "    }\n",
              "\n",
              "    .dataframe thead th {\n",
              "        text-align: right;\n",
              "    }\n",
              "</style>\n",
              "<table border=\"1\" class=\"dataframe\">\n",
              "  <thead>\n",
              "    <tr style=\"text-align: right;\">\n",
              "      <th></th>\n",
              "      <th>Date</th>\n",
              "      <th>Open</th>\n",
              "      <th>High</th>\n",
              "      <th>Low</th>\n",
              "      <th>Close</th>\n",
              "      <th>Adj Close</th>\n",
              "      <th>Volume</th>\n",
              "    </tr>\n",
              "  </thead>\n",
              "  <tbody>\n",
              "    <tr>\n",
              "      <th>0</th>\n",
              "      <td>2004-08-27</td>\n",
              "      <td>122.800003</td>\n",
              "      <td>122.800003</td>\n",
              "      <td>119.820000</td>\n",
              "      <td>120.332497</td>\n",
              "      <td>88.088272</td>\n",
              "      <td>30646000.0</td>\n",
              "    </tr>\n",
              "    <tr>\n",
              "      <th>1</th>\n",
              "      <td>2004-08-30</td>\n",
              "      <td>121.237503</td>\n",
              "      <td>123.750000</td>\n",
              "      <td>120.625000</td>\n",
              "      <td>123.345001</td>\n",
              "      <td>90.293549</td>\n",
              "      <td>24465208.0</td>\n",
              "    </tr>\n",
              "    <tr>\n",
              "      <th>2</th>\n",
              "      <td>2004-08-31</td>\n",
              "      <td>123.312500</td>\n",
              "      <td>123.750000</td>\n",
              "      <td>122.000000</td>\n",
              "      <td>123.512497</td>\n",
              "      <td>90.416122</td>\n",
              "      <td>21194656.0</td>\n",
              "    </tr>\n",
              "    <tr>\n",
              "      <th>3</th>\n",
              "      <td>2004-09-01</td>\n",
              "      <td>123.750000</td>\n",
              "      <td>124.375000</td>\n",
              "      <td>122.949997</td>\n",
              "      <td>123.487503</td>\n",
              "      <td>90.397820</td>\n",
              "      <td>19935544.0</td>\n",
              "    </tr>\n",
              "    <tr>\n",
              "      <th>4</th>\n",
              "      <td>2004-09-02</td>\n",
              "      <td>123.737503</td>\n",
              "      <td>125.574997</td>\n",
              "      <td>123.250000</td>\n",
              "      <td>124.207497</td>\n",
              "      <td>90.924896</td>\n",
              "      <td>21356352.0</td>\n",
              "    </tr>\n",
              "    <tr>\n",
              "      <th>...</th>\n",
              "      <td>...</td>\n",
              "      <td>...</td>\n",
              "      <td>...</td>\n",
              "      <td>...</td>\n",
              "      <td>...</td>\n",
              "      <td>...</td>\n",
              "      <td>...</td>\n",
              "    </tr>\n",
              "    <tr>\n",
              "      <th>4489</th>\n",
              "      <td>2022-10-18</td>\n",
              "      <td>3150.000000</td>\n",
              "      <td>3155.350098</td>\n",
              "      <td>3128.550049</td>\n",
              "      <td>3144.699951</td>\n",
              "      <td>3144.699951</td>\n",
              "      <td>1793722.0</td>\n",
              "    </tr>\n",
              "    <tr>\n",
              "      <th>4490</th>\n",
              "      <td>2022-10-19</td>\n",
              "      <td>3159.000000</td>\n",
              "      <td>3159.000000</td>\n",
              "      <td>3112.000000</td>\n",
              "      <td>3121.850098</td>\n",
              "      <td>3121.850098</td>\n",
              "      <td>1194289.0</td>\n",
              "    </tr>\n",
              "    <tr>\n",
              "      <th>4491</th>\n",
              "      <td>2022-10-20</td>\n",
              "      <td>3105.000000</td>\n",
              "      <td>3160.000000</td>\n",
              "      <td>3105.000000</td>\n",
              "      <td>3157.300049</td>\n",
              "      <td>3157.300049</td>\n",
              "      <td>1587601.0</td>\n",
              "    </tr>\n",
              "    <tr>\n",
              "      <th>4492</th>\n",
              "      <td>2022-10-21</td>\n",
              "      <td>3157.800049</td>\n",
              "      <td>3160.399902</td>\n",
              "      <td>3127.000000</td>\n",
              "      <td>3137.399902</td>\n",
              "      <td>3137.399902</td>\n",
              "      <td>1021913.0</td>\n",
              "    </tr>\n",
              "    <tr>\n",
              "      <th>4493</th>\n",
              "      <td>2022-10-24</td>\n",
              "      <td>3170.100098</td>\n",
              "      <td>3178.000000</td>\n",
              "      <td>3155.000000</td>\n",
              "      <td>3161.699951</td>\n",
              "      <td>3161.699951</td>\n",
              "      <td>260949.0</td>\n",
              "    </tr>\n",
              "  </tbody>\n",
              "</table>\n",
              "<p>4494 rows × 7 columns</p>\n",
              "</div>\n",
              "    <div class=\"colab-df-buttons\">\n",
              "\n",
              "  <div class=\"colab-df-container\">\n",
              "    <button class=\"colab-df-convert\" onclick=\"convertToInteractive('df-ef0c0ac1-7555-440f-8fe2-c8204efce48f')\"\n",
              "            title=\"Convert this dataframe to an interactive table.\"\n",
              "            style=\"display:none;\">\n",
              "\n",
              "  <svg xmlns=\"http://www.w3.org/2000/svg\" height=\"24px\" viewBox=\"0 -960 960 960\">\n",
              "    <path d=\"M120-120v-720h720v720H120Zm60-500h600v-160H180v160Zm220 220h160v-160H400v160Zm0 220h160v-160H400v160ZM180-400h160v-160H180v160Zm440 0h160v-160H620v160ZM180-180h160v-160H180v160Zm440 0h160v-160H620v160Z\"/>\n",
              "  </svg>\n",
              "    </button>\n",
              "\n",
              "  <style>\n",
              "    .colab-df-container {\n",
              "      display:flex;\n",
              "      gap: 12px;\n",
              "    }\n",
              "\n",
              "    .colab-df-convert {\n",
              "      background-color: #E8F0FE;\n",
              "      border: none;\n",
              "      border-radius: 50%;\n",
              "      cursor: pointer;\n",
              "      display: none;\n",
              "      fill: #1967D2;\n",
              "      height: 32px;\n",
              "      padding: 0 0 0 0;\n",
              "      width: 32px;\n",
              "    }\n",
              "\n",
              "    .colab-df-convert:hover {\n",
              "      background-color: #E2EBFA;\n",
              "      box-shadow: 0px 1px 2px rgba(60, 64, 67, 0.3), 0px 1px 3px 1px rgba(60, 64, 67, 0.15);\n",
              "      fill: #174EA6;\n",
              "    }\n",
              "\n",
              "    .colab-df-buttons div {\n",
              "      margin-bottom: 4px;\n",
              "    }\n",
              "\n",
              "    [theme=dark] .colab-df-convert {\n",
              "      background-color: #3B4455;\n",
              "      fill: #D2E3FC;\n",
              "    }\n",
              "\n",
              "    [theme=dark] .colab-df-convert:hover {\n",
              "      background-color: #434B5C;\n",
              "      box-shadow: 0px 1px 3px 1px rgba(0, 0, 0, 0.15);\n",
              "      filter: drop-shadow(0px 1px 2px rgba(0, 0, 0, 0.3));\n",
              "      fill: #FFFFFF;\n",
              "    }\n",
              "  </style>\n",
              "\n",
              "    <script>\n",
              "      const buttonEl =\n",
              "        document.querySelector('#df-ef0c0ac1-7555-440f-8fe2-c8204efce48f button.colab-df-convert');\n",
              "      buttonEl.style.display =\n",
              "        google.colab.kernel.accessAllowed ? 'block' : 'none';\n",
              "\n",
              "      async function convertToInteractive(key) {\n",
              "        const element = document.querySelector('#df-ef0c0ac1-7555-440f-8fe2-c8204efce48f');\n",
              "        const dataTable =\n",
              "          await google.colab.kernel.invokeFunction('convertToInteractive',\n",
              "                                                    [key], {});\n",
              "        if (!dataTable) return;\n",
              "\n",
              "        const docLinkHtml = 'Like what you see? Visit the ' +\n",
              "          '<a target=\"_blank\" href=https://colab.research.google.com/notebooks/data_table.ipynb>data table notebook</a>'\n",
              "          + ' to learn more about interactive tables.';\n",
              "        element.innerHTML = '';\n",
              "        dataTable['output_type'] = 'display_data';\n",
              "        await google.colab.output.renderOutput(dataTable, element);\n",
              "        const docLink = document.createElement('div');\n",
              "        docLink.innerHTML = docLinkHtml;\n",
              "        element.appendChild(docLink);\n",
              "      }\n",
              "    </script>\n",
              "  </div>\n",
              "\n",
              "\n",
              "<div id=\"df-8561ce03-b1e4-47cd-9382-1c1623ad338e\">\n",
              "  <button class=\"colab-df-quickchart\" onclick=\"quickchart('df-8561ce03-b1e4-47cd-9382-1c1623ad338e')\"\n",
              "            title=\"Suggest charts.\"\n",
              "            style=\"display:none;\">\n",
              "\n",
              "<svg xmlns=\"http://www.w3.org/2000/svg\" height=\"24px\"viewBox=\"0 0 24 24\"\n",
              "     width=\"24px\">\n",
              "    <g>\n",
              "        <path d=\"M19 3H5c-1.1 0-2 .9-2 2v14c0 1.1.9 2 2 2h14c1.1 0 2-.9 2-2V5c0-1.1-.9-2-2-2zM9 17H7v-7h2v7zm4 0h-2V7h2v10zm4 0h-2v-4h2v4z\"/>\n",
              "    </g>\n",
              "</svg>\n",
              "  </button>\n",
              "\n",
              "<style>\n",
              "  .colab-df-quickchart {\n",
              "      --bg-color: #E8F0FE;\n",
              "      --fill-color: #1967D2;\n",
              "      --hover-bg-color: #E2EBFA;\n",
              "      --hover-fill-color: #174EA6;\n",
              "      --disabled-fill-color: #AAA;\n",
              "      --disabled-bg-color: #DDD;\n",
              "  }\n",
              "\n",
              "  [theme=dark] .colab-df-quickchart {\n",
              "      --bg-color: #3B4455;\n",
              "      --fill-color: #D2E3FC;\n",
              "      --hover-bg-color: #434B5C;\n",
              "      --hover-fill-color: #FFFFFF;\n",
              "      --disabled-bg-color: #3B4455;\n",
              "      --disabled-fill-color: #666;\n",
              "  }\n",
              "\n",
              "  .colab-df-quickchart {\n",
              "    background-color: var(--bg-color);\n",
              "    border: none;\n",
              "    border-radius: 50%;\n",
              "    cursor: pointer;\n",
              "    display: none;\n",
              "    fill: var(--fill-color);\n",
              "    height: 32px;\n",
              "    padding: 0;\n",
              "    width: 32px;\n",
              "  }\n",
              "\n",
              "  .colab-df-quickchart:hover {\n",
              "    background-color: var(--hover-bg-color);\n",
              "    box-shadow: 0 1px 2px rgba(60, 64, 67, 0.3), 0 1px 3px 1px rgba(60, 64, 67, 0.15);\n",
              "    fill: var(--button-hover-fill-color);\n",
              "  }\n",
              "\n",
              "  .colab-df-quickchart-complete:disabled,\n",
              "  .colab-df-quickchart-complete:disabled:hover {\n",
              "    background-color: var(--disabled-bg-color);\n",
              "    fill: var(--disabled-fill-color);\n",
              "    box-shadow: none;\n",
              "  }\n",
              "\n",
              "  .colab-df-spinner {\n",
              "    border: 2px solid var(--fill-color);\n",
              "    border-color: transparent;\n",
              "    border-bottom-color: var(--fill-color);\n",
              "    animation:\n",
              "      spin 1s steps(1) infinite;\n",
              "  }\n",
              "\n",
              "  @keyframes spin {\n",
              "    0% {\n",
              "      border-color: transparent;\n",
              "      border-bottom-color: var(--fill-color);\n",
              "      border-left-color: var(--fill-color);\n",
              "    }\n",
              "    20% {\n",
              "      border-color: transparent;\n",
              "      border-left-color: var(--fill-color);\n",
              "      border-top-color: var(--fill-color);\n",
              "    }\n",
              "    30% {\n",
              "      border-color: transparent;\n",
              "      border-left-color: var(--fill-color);\n",
              "      border-top-color: var(--fill-color);\n",
              "      border-right-color: var(--fill-color);\n",
              "    }\n",
              "    40% {\n",
              "      border-color: transparent;\n",
              "      border-right-color: var(--fill-color);\n",
              "      border-top-color: var(--fill-color);\n",
              "    }\n",
              "    60% {\n",
              "      border-color: transparent;\n",
              "      border-right-color: var(--fill-color);\n",
              "    }\n",
              "    80% {\n",
              "      border-color: transparent;\n",
              "      border-right-color: var(--fill-color);\n",
              "      border-bottom-color: var(--fill-color);\n",
              "    }\n",
              "    90% {\n",
              "      border-color: transparent;\n",
              "      border-bottom-color: var(--fill-color);\n",
              "    }\n",
              "  }\n",
              "</style>\n",
              "\n",
              "  <script>\n",
              "    async function quickchart(key) {\n",
              "      const quickchartButtonEl =\n",
              "        document.querySelector('#' + key + ' button');\n",
              "      quickchartButtonEl.disabled = true;  // To prevent multiple clicks.\n",
              "      quickchartButtonEl.classList.add('colab-df-spinner');\n",
              "      try {\n",
              "        const charts = await google.colab.kernel.invokeFunction(\n",
              "            'suggestCharts', [key], {});\n",
              "      } catch (error) {\n",
              "        console.error('Error during call to suggestCharts:', error);\n",
              "      }\n",
              "      quickchartButtonEl.classList.remove('colab-df-spinner');\n",
              "      quickchartButtonEl.classList.add('colab-df-quickchart-complete');\n",
              "    }\n",
              "    (() => {\n",
              "      let quickchartButtonEl =\n",
              "        document.querySelector('#df-8561ce03-b1e4-47cd-9382-1c1623ad338e button');\n",
              "      quickchartButtonEl.style.display =\n",
              "        google.colab.kernel.accessAllowed ? 'block' : 'none';\n",
              "    })();\n",
              "  </script>\n",
              "</div>\n",
              "    </div>\n",
              "  </div>\n"
            ]
          },
          "metadata": {},
          "execution_count": 2
        }
      ],
      "source": [
        "#importing the dataset\n",
        "df = pd.read_csv('/content/TCS1.CSV')\n",
        "df"
      ]
    },
    {
      "cell_type": "code",
      "execution_count": 3,
      "id": "c79eb326",
      "metadata": {
        "execution": {
          "iopub.execute_input": "2022-10-27T08:44:03.048065Z",
          "iopub.status.busy": "2022-10-27T08:44:03.047381Z",
          "iopub.status.idle": "2022-10-27T08:44:03.051631Z",
          "shell.execute_reply": "2022-10-27T08:44:03.050799Z"
        },
        "id": "c79eb326",
        "papermill": {
          "duration": 0.016127,
          "end_time": "2022-10-27T08:44:03.053941",
          "exception": false,
          "start_time": "2022-10-27T08:44:03.037814",
          "status": "completed"
        },
        "tags": []
      },
      "outputs": [],
      "source": [
        "#This dataframe contains 7 columns\n",
        "#Date-- Date includes day and month and year\n",
        "#open -- open value of the TCS stock price on particular day\n",
        "#High -- high price value of TCS on particular day\n",
        "#LOW -- Low Price Value Of ITC on particular day\n",
        "#Close --Stock Price of TCS After Closing The Stock Market\n",
        "#Volume -- Volume of TCS means sum of buy's and shares\n",
        "#Adjclose --Adjusted close is the closing price after adjustments for all applicable splits and dividend distributions"
      ]
    },
    {
      "cell_type": "markdown",
      "id": "008e5a29",
      "metadata": {
        "id": "008e5a29",
        "papermill": {
          "duration": 0.007522,
          "end_time": "2022-10-27T08:44:03.069743",
          "exception": false,
          "start_time": "2022-10-27T08:44:03.062221",
          "status": "completed"
        },
        "tags": []
      },
      "source": [
        "Data Preprocessing"
      ]
    },
    {
      "cell_type": "code",
      "execution_count": 4,
      "id": "777b1ec6",
      "metadata": {
        "execution": {
          "iopub.execute_input": "2022-10-27T08:44:03.087294Z",
          "iopub.status.busy": "2022-10-27T08:44:03.086884Z",
          "iopub.status.idle": "2022-10-27T08:44:03.095570Z",
          "shell.execute_reply": "2022-10-27T08:44:03.094753Z"
        },
        "id": "777b1ec6",
        "papermill": {
          "duration": 0.020282,
          "end_time": "2022-10-27T08:44:03.097797",
          "exception": false,
          "start_time": "2022-10-27T08:44:03.077515",
          "status": "completed"
        },
        "tags": [],
        "colab": {
          "base_uri": "https://localhost:8080/"
        },
        "outputId": "d86d7227-db73-40cb-c12e-0c0a05adeebf"
      },
      "outputs": [
        {
          "output_type": "execute_result",
          "data": {
            "text/plain": [
              "Date         0\n",
              "Open         8\n",
              "High         8\n",
              "Low          8\n",
              "Close        8\n",
              "Adj Close    8\n",
              "Volume       8\n",
              "dtype: int64"
            ]
          },
          "metadata": {},
          "execution_count": 4
        }
      ],
      "source": [
        "df.isnull().sum()\n",
        "# checking whether it contains any null values"
      ]
    },
    {
      "cell_type": "code",
      "execution_count": 5,
      "id": "f54029ae",
      "metadata": {
        "execution": {
          "iopub.execute_input": "2022-10-27T08:44:03.119565Z",
          "iopub.status.busy": "2022-10-27T08:44:03.118399Z",
          "iopub.status.idle": "2022-10-27T08:44:03.129056Z",
          "shell.execute_reply": "2022-10-27T08:44:03.128121Z"
        },
        "id": "f54029ae",
        "papermill": {
          "duration": 0.025503,
          "end_time": "2022-10-27T08:44:03.131740",
          "exception": false,
          "start_time": "2022-10-27T08:44:03.106237",
          "status": "completed"
        },
        "tags": []
      },
      "outputs": [],
      "source": [
        "# replacing null values with the mean of the open column\n",
        "df['Open'] = df['Open'].fillna(df['Open'].mean())"
      ]
    },
    {
      "cell_type": "code",
      "execution_count": 6,
      "id": "eebd672e",
      "metadata": {
        "execution": {
          "iopub.execute_input": "2022-10-27T08:44:03.159668Z",
          "iopub.status.busy": "2022-10-27T08:44:03.158871Z",
          "iopub.status.idle": "2022-10-27T08:44:03.164366Z",
          "shell.execute_reply": "2022-10-27T08:44:03.163478Z"
        },
        "id": "eebd672e",
        "papermill": {
          "duration": 0.023811,
          "end_time": "2022-10-27T08:44:03.167284",
          "exception": false,
          "start_time": "2022-10-27T08:44:03.143473",
          "status": "completed"
        },
        "tags": []
      },
      "outputs": [],
      "source": [
        "# replacing null values with the mean of the High column\n",
        "df['High'] = df['High'].fillna(df['High'].mean())"
      ]
    },
    {
      "cell_type": "code",
      "execution_count": 7,
      "id": "bb9b89b3",
      "metadata": {
        "execution": {
          "iopub.execute_input": "2022-10-27T08:44:03.194517Z",
          "iopub.status.busy": "2022-10-27T08:44:03.193965Z",
          "iopub.status.idle": "2022-10-27T08:44:03.202593Z",
          "shell.execute_reply": "2022-10-27T08:44:03.200737Z"
        },
        "id": "bb9b89b3",
        "papermill": {
          "duration": 0.025524,
          "end_time": "2022-10-27T08:44:03.205274",
          "exception": false,
          "start_time": "2022-10-27T08:44:03.179750",
          "status": "completed"
        },
        "tags": []
      },
      "outputs": [],
      "source": [
        "# replacing null values with the mean of the Low column\n",
        "df['Low'] = df['Low'].fillna(df['Low'].mean())"
      ]
    },
    {
      "cell_type": "code",
      "execution_count": 8,
      "id": "bf07b35a",
      "metadata": {
        "execution": {
          "iopub.execute_input": "2022-10-27T08:44:03.225540Z",
          "iopub.status.busy": "2022-10-27T08:44:03.225075Z",
          "iopub.status.idle": "2022-10-27T08:44:03.232811Z",
          "shell.execute_reply": "2022-10-27T08:44:03.231803Z"
        },
        "id": "bf07b35a",
        "papermill": {
          "duration": 0.020764,
          "end_time": "2022-10-27T08:44:03.235252",
          "exception": false,
          "start_time": "2022-10-27T08:44:03.214488",
          "status": "completed"
        },
        "tags": []
      },
      "outputs": [],
      "source": [
        "# replacing null values with the mean of the Close column\n",
        "df['Close'] = df['Close'].fillna(df['Close'].mean())"
      ]
    },
    {
      "cell_type": "code",
      "execution_count": 9,
      "id": "8d9ecb6c",
      "metadata": {
        "execution": {
          "iopub.execute_input": "2022-10-27T08:44:03.254552Z",
          "iopub.status.busy": "2022-10-27T08:44:03.253707Z",
          "iopub.status.idle": "2022-10-27T08:44:03.261689Z",
          "shell.execute_reply": "2022-10-27T08:44:03.260445Z"
        },
        "id": "8d9ecb6c",
        "papermill": {
          "duration": 0.020809,
          "end_time": "2022-10-27T08:44:03.264570",
          "exception": false,
          "start_time": "2022-10-27T08:44:03.243761",
          "status": "completed"
        },
        "tags": []
      },
      "outputs": [],
      "source": [
        "# replacing null values with the mean of the AdjClose column\n",
        "df['Adj Close'] = df['Adj Close'].fillna(df['Adj Close'].mean())"
      ]
    },
    {
      "cell_type": "code",
      "execution_count": 10,
      "id": "8b557683",
      "metadata": {
        "execution": {
          "iopub.execute_input": "2022-10-27T08:44:03.283468Z",
          "iopub.status.busy": "2022-10-27T08:44:03.282994Z",
          "iopub.status.idle": "2022-10-27T08:44:03.291009Z",
          "shell.execute_reply": "2022-10-27T08:44:03.289596Z"
        },
        "id": "8b557683",
        "papermill": {
          "duration": 0.02055,
          "end_time": "2022-10-27T08:44:03.293580",
          "exception": false,
          "start_time": "2022-10-27T08:44:03.273030",
          "status": "completed"
        },
        "tags": []
      },
      "outputs": [],
      "source": [
        "# replacing null values with the mean of the Volume column\n",
        "df['Volume'] = df['Volume'].fillna(df['Volume'].mean())"
      ]
    },
    {
      "cell_type": "code",
      "execution_count": 11,
      "id": "a9fee16f",
      "metadata": {
        "execution": {
          "iopub.execute_input": "2022-10-27T08:44:03.313146Z",
          "iopub.status.busy": "2022-10-27T08:44:03.311885Z",
          "iopub.status.idle": "2022-10-27T08:44:03.321937Z",
          "shell.execute_reply": "2022-10-27T08:44:03.320527Z"
        },
        "id": "a9fee16f",
        "papermill": {
          "duration": 0.022445,
          "end_time": "2022-10-27T08:44:03.324569",
          "exception": false,
          "start_time": "2022-10-27T08:44:03.302124",
          "status": "completed"
        },
        "tags": [],
        "colab": {
          "base_uri": "https://localhost:8080/"
        },
        "outputId": "1ebc8868-727e-4e6a-d7e7-1a2d7214ff2d"
      },
      "outputs": [
        {
          "output_type": "execute_result",
          "data": {
            "text/plain": [
              "Date         0\n",
              "Open         0\n",
              "High         0\n",
              "Low          0\n",
              "Close        0\n",
              "Adj Close    0\n",
              "Volume       0\n",
              "dtype: int64"
            ]
          },
          "metadata": {},
          "execution_count": 11
        }
      ],
      "source": [
        "df.isnull().sum()\n",
        "# there is no missing values present in this dataset"
      ]
    },
    {
      "cell_type": "code",
      "execution_count": 12,
      "id": "7ce49ba5",
      "metadata": {
        "execution": {
          "iopub.execute_input": "2022-10-27T08:44:03.344318Z",
          "iopub.status.busy": "2022-10-27T08:44:03.343829Z",
          "iopub.status.idle": "2022-10-27T08:44:03.359797Z",
          "shell.execute_reply": "2022-10-27T08:44:03.358860Z"
        },
        "id": "7ce49ba5",
        "papermill": {
          "duration": 0.029242,
          "end_time": "2022-10-27T08:44:03.362580",
          "exception": false,
          "start_time": "2022-10-27T08:44:03.333338",
          "status": "completed"
        },
        "tags": [],
        "colab": {
          "base_uri": "https://localhost:8080/"
        },
        "outputId": "f0aaa7e6-05fa-4ee0-ff38-36c77b176355"
      },
      "outputs": [
        {
          "output_type": "execute_result",
          "data": {
            "text/plain": [
              "0"
            ]
          },
          "metadata": {},
          "execution_count": 12
        }
      ],
      "source": [
        "# cheecking whtether it contains duplicates\n",
        "df.duplicated().sum()"
      ]
    },
    {
      "cell_type": "code",
      "execution_count": 13,
      "id": "7a166688",
      "metadata": {
        "execution": {
          "iopub.execute_input": "2022-10-27T08:44:03.381712Z",
          "iopub.status.busy": "2022-10-27T08:44:03.381233Z",
          "iopub.status.idle": "2022-10-27T08:44:03.386596Z",
          "shell.execute_reply": "2022-10-27T08:44:03.385224Z"
        },
        "id": "7a166688",
        "papermill": {
          "duration": 0.017965,
          "end_time": "2022-10-27T08:44:03.389015",
          "exception": false,
          "start_time": "2022-10-27T08:44:03.371050",
          "status": "completed"
        },
        "tags": []
      },
      "outputs": [],
      "source": [
        "# our dataset looks cool"
      ]
    },
    {
      "cell_type": "markdown",
      "id": "003f0a90",
      "metadata": {
        "id": "003f0a90",
        "papermill": {
          "duration": 0.00802,
          "end_time": "2022-10-27T08:44:03.406118",
          "exception": false,
          "start_time": "2022-10-27T08:44:03.398098",
          "status": "completed"
        },
        "tags": []
      },
      "source": [
        "Data Visualization"
      ]
    },
    {
      "cell_type": "code",
      "execution_count": 14,
      "id": "0020e125",
      "metadata": {
        "execution": {
          "iopub.execute_input": "2022-10-27T08:44:03.425352Z",
          "iopub.status.busy": "2022-10-27T08:44:03.424805Z",
          "iopub.status.idle": "2022-10-27T08:44:03.443857Z",
          "shell.execute_reply": "2022-10-27T08:44:03.442630Z"
        },
        "id": "0020e125",
        "papermill": {
          "duration": 0.031676,
          "end_time": "2022-10-27T08:44:03.446190",
          "exception": false,
          "start_time": "2022-10-27T08:44:03.414514",
          "status": "completed"
        },
        "tags": [],
        "colab": {
          "base_uri": "https://localhost:8080/",
          "height": 292
        },
        "outputId": "7bebc4b8-68b4-42b9-d076-10f1caeed6f8"
      },
      "outputs": [
        {
          "output_type": "stream",
          "name": "stderr",
          "text": [
            "<ipython-input-14-047d42421a6e>:1: FutureWarning: The default value of numeric_only in DataFrame.corr is deprecated. In a future version, it will default to False. Select only valid columns or specify the value of numeric_only to silence this warning.\n",
            "  corr_matrix = df.corr()\n"
          ]
        },
        {
          "output_type": "execute_result",
          "data": {
            "text/plain": [
              "               Open      High       Low     Close  Adj Close    Volume\n",
              "Open       1.000000  0.999893  0.999891  0.999779   0.998755 -0.235007\n",
              "High       0.999893  1.000000  0.999877  0.999913   0.998893 -0.232812\n",
              "Low        0.999891  0.999877  1.000000  0.999905   0.998864 -0.236762\n",
              "Close      0.999779  0.999913  0.999905  1.000000   0.998958 -0.234861\n",
              "Adj Close  0.998755  0.998893  0.998864  0.998958   1.000000 -0.221112\n",
              "Volume    -0.235007 -0.232812 -0.236762 -0.234861  -0.221112  1.000000"
            ],
            "text/html": [
              "\n",
              "  <div id=\"df-340c3ee2-b040-4bbb-9e4d-e5d14b7a62e5\" class=\"colab-df-container\">\n",
              "    <div>\n",
              "<style scoped>\n",
              "    .dataframe tbody tr th:only-of-type {\n",
              "        vertical-align: middle;\n",
              "    }\n",
              "\n",
              "    .dataframe tbody tr th {\n",
              "        vertical-align: top;\n",
              "    }\n",
              "\n",
              "    .dataframe thead th {\n",
              "        text-align: right;\n",
              "    }\n",
              "</style>\n",
              "<table border=\"1\" class=\"dataframe\">\n",
              "  <thead>\n",
              "    <tr style=\"text-align: right;\">\n",
              "      <th></th>\n",
              "      <th>Open</th>\n",
              "      <th>High</th>\n",
              "      <th>Low</th>\n",
              "      <th>Close</th>\n",
              "      <th>Adj Close</th>\n",
              "      <th>Volume</th>\n",
              "    </tr>\n",
              "  </thead>\n",
              "  <tbody>\n",
              "    <tr>\n",
              "      <th>Open</th>\n",
              "      <td>1.000000</td>\n",
              "      <td>0.999893</td>\n",
              "      <td>0.999891</td>\n",
              "      <td>0.999779</td>\n",
              "      <td>0.998755</td>\n",
              "      <td>-0.235007</td>\n",
              "    </tr>\n",
              "    <tr>\n",
              "      <th>High</th>\n",
              "      <td>0.999893</td>\n",
              "      <td>1.000000</td>\n",
              "      <td>0.999877</td>\n",
              "      <td>0.999913</td>\n",
              "      <td>0.998893</td>\n",
              "      <td>-0.232812</td>\n",
              "    </tr>\n",
              "    <tr>\n",
              "      <th>Low</th>\n",
              "      <td>0.999891</td>\n",
              "      <td>0.999877</td>\n",
              "      <td>1.000000</td>\n",
              "      <td>0.999905</td>\n",
              "      <td>0.998864</td>\n",
              "      <td>-0.236762</td>\n",
              "    </tr>\n",
              "    <tr>\n",
              "      <th>Close</th>\n",
              "      <td>0.999779</td>\n",
              "      <td>0.999913</td>\n",
              "      <td>0.999905</td>\n",
              "      <td>1.000000</td>\n",
              "      <td>0.998958</td>\n",
              "      <td>-0.234861</td>\n",
              "    </tr>\n",
              "    <tr>\n",
              "      <th>Adj Close</th>\n",
              "      <td>0.998755</td>\n",
              "      <td>0.998893</td>\n",
              "      <td>0.998864</td>\n",
              "      <td>0.998958</td>\n",
              "      <td>1.000000</td>\n",
              "      <td>-0.221112</td>\n",
              "    </tr>\n",
              "    <tr>\n",
              "      <th>Volume</th>\n",
              "      <td>-0.235007</td>\n",
              "      <td>-0.232812</td>\n",
              "      <td>-0.236762</td>\n",
              "      <td>-0.234861</td>\n",
              "      <td>-0.221112</td>\n",
              "      <td>1.000000</td>\n",
              "    </tr>\n",
              "  </tbody>\n",
              "</table>\n",
              "</div>\n",
              "    <div class=\"colab-df-buttons\">\n",
              "\n",
              "  <div class=\"colab-df-container\">\n",
              "    <button class=\"colab-df-convert\" onclick=\"convertToInteractive('df-340c3ee2-b040-4bbb-9e4d-e5d14b7a62e5')\"\n",
              "            title=\"Convert this dataframe to an interactive table.\"\n",
              "            style=\"display:none;\">\n",
              "\n",
              "  <svg xmlns=\"http://www.w3.org/2000/svg\" height=\"24px\" viewBox=\"0 -960 960 960\">\n",
              "    <path d=\"M120-120v-720h720v720H120Zm60-500h600v-160H180v160Zm220 220h160v-160H400v160Zm0 220h160v-160H400v160ZM180-400h160v-160H180v160Zm440 0h160v-160H620v160ZM180-180h160v-160H180v160Zm440 0h160v-160H620v160Z\"/>\n",
              "  </svg>\n",
              "    </button>\n",
              "\n",
              "  <style>\n",
              "    .colab-df-container {\n",
              "      display:flex;\n",
              "      gap: 12px;\n",
              "    }\n",
              "\n",
              "    .colab-df-convert {\n",
              "      background-color: #E8F0FE;\n",
              "      border: none;\n",
              "      border-radius: 50%;\n",
              "      cursor: pointer;\n",
              "      display: none;\n",
              "      fill: #1967D2;\n",
              "      height: 32px;\n",
              "      padding: 0 0 0 0;\n",
              "      width: 32px;\n",
              "    }\n",
              "\n",
              "    .colab-df-convert:hover {\n",
              "      background-color: #E2EBFA;\n",
              "      box-shadow: 0px 1px 2px rgba(60, 64, 67, 0.3), 0px 1px 3px 1px rgba(60, 64, 67, 0.15);\n",
              "      fill: #174EA6;\n",
              "    }\n",
              "\n",
              "    .colab-df-buttons div {\n",
              "      margin-bottom: 4px;\n",
              "    }\n",
              "\n",
              "    [theme=dark] .colab-df-convert {\n",
              "      background-color: #3B4455;\n",
              "      fill: #D2E3FC;\n",
              "    }\n",
              "\n",
              "    [theme=dark] .colab-df-convert:hover {\n",
              "      background-color: #434B5C;\n",
              "      box-shadow: 0px 1px 3px 1px rgba(0, 0, 0, 0.15);\n",
              "      filter: drop-shadow(0px 1px 2px rgba(0, 0, 0, 0.3));\n",
              "      fill: #FFFFFF;\n",
              "    }\n",
              "  </style>\n",
              "\n",
              "    <script>\n",
              "      const buttonEl =\n",
              "        document.querySelector('#df-340c3ee2-b040-4bbb-9e4d-e5d14b7a62e5 button.colab-df-convert');\n",
              "      buttonEl.style.display =\n",
              "        google.colab.kernel.accessAllowed ? 'block' : 'none';\n",
              "\n",
              "      async function convertToInteractive(key) {\n",
              "        const element = document.querySelector('#df-340c3ee2-b040-4bbb-9e4d-e5d14b7a62e5');\n",
              "        const dataTable =\n",
              "          await google.colab.kernel.invokeFunction('convertToInteractive',\n",
              "                                                    [key], {});\n",
              "        if (!dataTable) return;\n",
              "\n",
              "        const docLinkHtml = 'Like what you see? Visit the ' +\n",
              "          '<a target=\"_blank\" href=https://colab.research.google.com/notebooks/data_table.ipynb>data table notebook</a>'\n",
              "          + ' to learn more about interactive tables.';\n",
              "        element.innerHTML = '';\n",
              "        dataTable['output_type'] = 'display_data';\n",
              "        await google.colab.output.renderOutput(dataTable, element);\n",
              "        const docLink = document.createElement('div');\n",
              "        docLink.innerHTML = docLinkHtml;\n",
              "        element.appendChild(docLink);\n",
              "      }\n",
              "    </script>\n",
              "  </div>\n",
              "\n",
              "\n",
              "<div id=\"df-2c74ae76-1b8b-41c2-b36f-bba49f1de2c9\">\n",
              "  <button class=\"colab-df-quickchart\" onclick=\"quickchart('df-2c74ae76-1b8b-41c2-b36f-bba49f1de2c9')\"\n",
              "            title=\"Suggest charts.\"\n",
              "            style=\"display:none;\">\n",
              "\n",
              "<svg xmlns=\"http://www.w3.org/2000/svg\" height=\"24px\"viewBox=\"0 0 24 24\"\n",
              "     width=\"24px\">\n",
              "    <g>\n",
              "        <path d=\"M19 3H5c-1.1 0-2 .9-2 2v14c0 1.1.9 2 2 2h14c1.1 0 2-.9 2-2V5c0-1.1-.9-2-2-2zM9 17H7v-7h2v7zm4 0h-2V7h2v10zm4 0h-2v-4h2v4z\"/>\n",
              "    </g>\n",
              "</svg>\n",
              "  </button>\n",
              "\n",
              "<style>\n",
              "  .colab-df-quickchart {\n",
              "      --bg-color: #E8F0FE;\n",
              "      --fill-color: #1967D2;\n",
              "      --hover-bg-color: #E2EBFA;\n",
              "      --hover-fill-color: #174EA6;\n",
              "      --disabled-fill-color: #AAA;\n",
              "      --disabled-bg-color: #DDD;\n",
              "  }\n",
              "\n",
              "  [theme=dark] .colab-df-quickchart {\n",
              "      --bg-color: #3B4455;\n",
              "      --fill-color: #D2E3FC;\n",
              "      --hover-bg-color: #434B5C;\n",
              "      --hover-fill-color: #FFFFFF;\n",
              "      --disabled-bg-color: #3B4455;\n",
              "      --disabled-fill-color: #666;\n",
              "  }\n",
              "\n",
              "  .colab-df-quickchart {\n",
              "    background-color: var(--bg-color);\n",
              "    border: none;\n",
              "    border-radius: 50%;\n",
              "    cursor: pointer;\n",
              "    display: none;\n",
              "    fill: var(--fill-color);\n",
              "    height: 32px;\n",
              "    padding: 0;\n",
              "    width: 32px;\n",
              "  }\n",
              "\n",
              "  .colab-df-quickchart:hover {\n",
              "    background-color: var(--hover-bg-color);\n",
              "    box-shadow: 0 1px 2px rgba(60, 64, 67, 0.3), 0 1px 3px 1px rgba(60, 64, 67, 0.15);\n",
              "    fill: var(--button-hover-fill-color);\n",
              "  }\n",
              "\n",
              "  .colab-df-quickchart-complete:disabled,\n",
              "  .colab-df-quickchart-complete:disabled:hover {\n",
              "    background-color: var(--disabled-bg-color);\n",
              "    fill: var(--disabled-fill-color);\n",
              "    box-shadow: none;\n",
              "  }\n",
              "\n",
              "  .colab-df-spinner {\n",
              "    border: 2px solid var(--fill-color);\n",
              "    border-color: transparent;\n",
              "    border-bottom-color: var(--fill-color);\n",
              "    animation:\n",
              "      spin 1s steps(1) infinite;\n",
              "  }\n",
              "\n",
              "  @keyframes spin {\n",
              "    0% {\n",
              "      border-color: transparent;\n",
              "      border-bottom-color: var(--fill-color);\n",
              "      border-left-color: var(--fill-color);\n",
              "    }\n",
              "    20% {\n",
              "      border-color: transparent;\n",
              "      border-left-color: var(--fill-color);\n",
              "      border-top-color: var(--fill-color);\n",
              "    }\n",
              "    30% {\n",
              "      border-color: transparent;\n",
              "      border-left-color: var(--fill-color);\n",
              "      border-top-color: var(--fill-color);\n",
              "      border-right-color: var(--fill-color);\n",
              "    }\n",
              "    40% {\n",
              "      border-color: transparent;\n",
              "      border-right-color: var(--fill-color);\n",
              "      border-top-color: var(--fill-color);\n",
              "    }\n",
              "    60% {\n",
              "      border-color: transparent;\n",
              "      border-right-color: var(--fill-color);\n",
              "    }\n",
              "    80% {\n",
              "      border-color: transparent;\n",
              "      border-right-color: var(--fill-color);\n",
              "      border-bottom-color: var(--fill-color);\n",
              "    }\n",
              "    90% {\n",
              "      border-color: transparent;\n",
              "      border-bottom-color: var(--fill-color);\n",
              "    }\n",
              "  }\n",
              "</style>\n",
              "\n",
              "  <script>\n",
              "    async function quickchart(key) {\n",
              "      const quickchartButtonEl =\n",
              "        document.querySelector('#' + key + ' button');\n",
              "      quickchartButtonEl.disabled = true;  // To prevent multiple clicks.\n",
              "      quickchartButtonEl.classList.add('colab-df-spinner');\n",
              "      try {\n",
              "        const charts = await google.colab.kernel.invokeFunction(\n",
              "            'suggestCharts', [key], {});\n",
              "      } catch (error) {\n",
              "        console.error('Error during call to suggestCharts:', error);\n",
              "      }\n",
              "      quickchartButtonEl.classList.remove('colab-df-spinner');\n",
              "      quickchartButtonEl.classList.add('colab-df-quickchart-complete');\n",
              "    }\n",
              "    (() => {\n",
              "      let quickchartButtonEl =\n",
              "        document.querySelector('#df-2c74ae76-1b8b-41c2-b36f-bba49f1de2c9 button');\n",
              "      quickchartButtonEl.style.display =\n",
              "        google.colab.kernel.accessAllowed ? 'block' : 'none';\n",
              "    })();\n",
              "  </script>\n",
              "</div>\n",
              "    </div>\n",
              "  </div>\n"
            ]
          },
          "metadata": {},
          "execution_count": 14
        }
      ],
      "source": [
        "corr_matrix = df.corr()\n",
        "corr_matrix\n",
        "# this gives the correlation between the variables"
      ]
    },
    {
      "cell_type": "code",
      "execution_count": 18,
      "id": "6f78c3ca",
      "metadata": {
        "execution": {
          "iopub.execute_input": "2022-10-27T08:44:03.465635Z",
          "iopub.status.busy": "2022-10-27T08:44:03.464965Z",
          "iopub.status.idle": "2022-10-27T08:44:04.927468Z",
          "shell.execute_reply": "2022-10-27T08:44:04.925955Z"
        },
        "id": "6f78c3ca",
        "papermill": {
          "duration": 1.475539,
          "end_time": "2022-10-27T08:44:04.930359",
          "exception": false,
          "start_time": "2022-10-27T08:44:03.454820",
          "status": "completed"
        },
        "tags": [],
        "colab": {
          "base_uri": "https://localhost:8080/",
          "height": 452
        },
        "outputId": "3427d3e8-c7fb-4b05-cddf-f6ef9c2e7551"
      },
      "outputs": [
        {
          "output_type": "execute_result",
          "data": {
            "text/plain": [
              "<Axes: >"
            ]
          },
          "metadata": {},
          "execution_count": 18
        },
        {
          "output_type": "display_data",
          "data": {
            "text/plain": [
              "<Figure size 640x480 with 2 Axes>"
            ],
            "image/png": "[encoded data removed]"
          },
          "metadata": {}
        }
      ],
      "source": [
        "import seaborn as sns\n",
        "# importing seaborn it is a visualization library\n",
        "sns.heatmap(corr_matrix,cmap='coolwarm')"
      ]
    },
    {
      "cell_type": "code",
      "execution_count": 19,
      "id": "e38d55cd",
      "metadata": {
        "execution": {
          "iopub.execute_input": "2022-10-27T08:44:04.951236Z",
          "iopub.status.busy": "2022-10-27T08:44:04.950788Z",
          "iopub.status.idle": "2022-10-27T08:44:04.957014Z",
          "shell.execute_reply": "2022-10-27T08:44:04.955555Z"
        },
        "id": "e38d55cd",
        "papermill": {
          "duration": 0.019323,
          "end_time": "2022-10-27T08:44:04.959248",
          "exception": false,
          "start_time": "2022-10-27T08:44:04.939925",
          "status": "completed"
        },
        "tags": []
      },
      "outputs": [],
      "source": [
        "import matplotlib.pyplot as plt"
      ]
    },
    {
      "cell_type": "code",
      "execution_count": null,
      "id": "b180c3b4",
      "metadata": {
        "execution": {
          "iopub.execute_input": "2022-10-27T08:44:04.979703Z",
          "iopub.status.busy": "2022-10-27T08:44:04.979208Z",
          "iopub.status.idle": "2022-10-27T08:44:04.984331Z",
          "shell.execute_reply": "2022-10-27T08:44:04.983202Z"
        },
        "id": "b180c3b4",
        "papermill": {
          "duration": 0.018133,
          "end_time": "2022-10-27T08:44:04.986574",
          "exception": false,
          "start_time": "2022-10-27T08:44:04.968441",
          "status": "completed"
        },
        "tags": []
      },
      "outputs": [],
      "source": [
        "# Checking the relation between the input and target variables by data visulaization\n",
        "# our target variable is close price"
      ]
    },
    {
      "cell_type": "code",
      "execution_count": 22,
      "id": "52a026ae",
      "metadata": {
        "execution": {
          "iopub.execute_input": "2022-10-27T08:44:05.008215Z",
          "iopub.status.busy": "2022-10-27T08:44:05.006828Z",
          "iopub.status.idle": "2022-10-27T08:44:05.294303Z",
          "shell.execute_reply": "2022-10-27T08:44:05.293092Z"
        },
        "id": "52a026ae",
        "papermill": {
          "duration": 0.30154,
          "end_time": "2022-10-27T08:44:05.297353",
          "exception": false,
          "start_time": "2022-10-27T08:44:04.995813",
          "status": "completed"
        },
        "tags": [],
        "colab": {
          "base_uri": "https://localhost:8080/",
          "height": 489
        },
        "outputId": "c30bf31e-914a-4b85-d8aa-b98b10104b77"
      },
      "outputs": [
        {
          "output_type": "execute_result",
          "data": {
            "text/plain": [
              "Text(0.5, 1.0, 'open and Close')"
            ]
          },
          "metadata": {},
          "execution_count": 22
        },
        {
          "output_type": "display_data",
          "data": {
            "text/plain": [
              "<Figure size 640x480 with 1 Axes>"
            ],
            "image/png": "[encoded data removed]"
          },
          "metadata": {}
        }
      ],
      "source": [
        "# Scatter Plot Between Open and Close\n",
        "plt.scatter(df['Open'],df['Close'])\n",
        "plt.xlabel('Open')\n",
        "plt.ylabel('Close')\n",
        "plt.title('open and Close')\n",
        "# open and close are highly correlated"
      ]
    },
    {
      "cell_type": "code",
      "execution_count": 23,
      "id": "acb0a647",
      "metadata": {
        "execution": {
          "iopub.execute_input": "2022-10-27T08:44:05.319740Z",
          "iopub.status.busy": "2022-10-27T08:44:05.318378Z",
          "iopub.status.idle": "2022-10-27T08:44:05.601617Z",
          "shell.execute_reply": "2022-10-27T08:44:05.600297Z"
        },
        "id": "acb0a647",
        "papermill": {
          "duration": 0.297316,
          "end_time": "2022-10-27T08:44:05.604549",
          "exception": false,
          "start_time": "2022-10-27T08:44:05.307233",
          "status": "completed"
        },
        "tags": [],
        "colab": {
          "base_uri": "https://localhost:8080/",
          "height": 489
        },
        "outputId": "5984aee8-e645-4985-e6ec-900474dc09c6"
      },
      "outputs": [
        {
          "output_type": "execute_result",
          "data": {
            "text/plain": [
              "Text(0.5, 1.0, 'High and Close')"
            ]
          },
          "metadata": {},
          "execution_count": 23
        },
        {
          "output_type": "display_data",
          "data": {
            "text/plain": [
              "<Figure size 640x480 with 1 Axes>"
            ],
            "image/png": "[encoded data removed]"
          },
          "metadata": {}
        }
      ],
      "source": [
        "# Scatter Plot Between High and Low\n",
        "plt.scatter(df['High'],df['Close'])\n",
        "plt.xlabel('High')\n",
        "plt.ylabel('Close')\n",
        "plt.title('High and Close')\n",
        "# High and close are highly correlated"
      ]
    },
    {
      "cell_type": "code",
      "execution_count": 24,
      "id": "dcd643e2",
      "metadata": {
        "execution": {
          "iopub.execute_input": "2022-10-27T08:44:05.627751Z",
          "iopub.status.busy": "2022-10-27T08:44:05.627295Z",
          "iopub.status.idle": "2022-10-27T08:44:05.886773Z",
          "shell.execute_reply": "2022-10-27T08:44:05.885584Z"
        },
        "id": "dcd643e2",
        "papermill": {
          "duration": 0.274157,
          "end_time": "2022-10-27T08:44:05.889184",
          "exception": false,
          "start_time": "2022-10-27T08:44:05.615027",
          "status": "completed"
        },
        "tags": [],
        "colab": {
          "base_uri": "https://localhost:8080/",
          "height": 489
        },
        "outputId": "abe66542-f371-49e7-d51b-543a9e50f613"
      },
      "outputs": [
        {
          "output_type": "execute_result",
          "data": {
            "text/plain": [
              "Text(0.5, 1.0, 'Volume and Close')"
            ]
          },
          "metadata": {},
          "execution_count": 24
        },
        {
          "output_type": "display_data",
          "data": {
            "text/plain": [
              "<Figure size 640x480 with 1 Axes>"
            ],
            "image/png": "[encoded data removed]"
          },
          "metadata": {}
        }
      ],
      "source": [
        "# Scatter Plot Between Volume and Low\n",
        "plt.scatter(df['Volume'],df['Close'])\n",
        "plt.xlabel('Volume')\n",
        "plt.ylabel('Close')\n",
        "plt.title('Volume and Close')\n",
        "# Volume and close are not much correlated"
      ]
    },
    {
      "cell_type": "markdown",
      "id": "36c78eea",
      "metadata": {
        "id": "36c78eea",
        "papermill": {
          "duration": 0.010576,
          "end_time": "2022-10-27T08:44:05.910533",
          "exception": false,
          "start_time": "2022-10-27T08:44:05.899957",
          "status": "completed"
        },
        "tags": []
      },
      "source": [
        "Model Making"
      ]
    },
    {
      "cell_type": "code",
      "execution_count": 25,
      "id": "da01ab03",
      "metadata": {
        "execution": {
          "iopub.execute_input": "2022-10-27T08:44:05.934745Z",
          "iopub.status.busy": "2022-10-27T08:44:05.934112Z",
          "iopub.status.idle": "2022-10-27T08:44:05.947706Z",
          "shell.execute_reply": "2022-10-27T08:44:05.946696Z"
        },
        "id": "da01ab03",
        "papermill": {
          "duration": 0.029005,
          "end_time": "2022-10-27T08:44:05.950382",
          "exception": false,
          "start_time": "2022-10-27T08:44:05.921377",
          "status": "completed"
        },
        "tags": [],
        "colab": {
          "base_uri": "https://localhost:8080/",
          "height": 112
        },
        "outputId": "da2d3f51-27a7-448a-de67-000a12c794d4"
      },
      "outputs": [
        {
          "output_type": "execute_result",
          "data": {
            "text/plain": [
              "         Date        Open        High      Low       Close  Adj Close  \\\n",
              "0  2004-08-27  122.800003  122.800003  119.820  120.332497  88.088272   \n",
              "1  2004-08-30  121.237503  123.750000  120.625  123.345001  90.293549   \n",
              "\n",
              "       Volume  \n",
              "0  30646000.0  \n",
              "1  24465208.0  "
            ],
            "text/html": [
              "\n",
              "  <div id=\"df-9265ceba-1d64-444e-a1a0-fadfad561fcc\" class=\"colab-df-container\">\n",
              "    <div>\n",
              "<style scoped>\n",
              "    .dataframe tbody tr th:only-of-type {\n",
              "        vertical-align: middle;\n",
              "    }\n",
              "\n",
              "    .dataframe tbody tr th {\n",
              "        vertical-align: top;\n",
              "    }\n",
              "\n",
              "    .dataframe thead th {\n",
              "        text-align: right;\n",
              "    }\n",
              "</style>\n",
              "<table border=\"1\" class=\"dataframe\">\n",
              "  <thead>\n",
              "    <tr style=\"text-align: right;\">\n",
              "      <th></th>\n",
              "      <th>Date</th>\n",
              "      <th>Open</th>\n",
              "      <th>High</th>\n",
              "      <th>Low</th>\n",
              "      <th>Close</th>\n",
              "      <th>Adj Close</th>\n",
              "      <th>Volume</th>\n",
              "    </tr>\n",
              "  </thead>\n",
              "  <tbody>\n",
              "    <tr>\n",
              "      <th>0</th>\n",
              "      <td>2004-08-27</td>\n",
              "      <td>122.800003</td>\n",
              "      <td>122.800003</td>\n",
              "      <td>119.820</td>\n",
              "      <td>120.332497</td>\n",
              "      <td>88.088272</td>\n",
              "      <td>30646000.0</td>\n",
              "    </tr>\n",
              "    <tr>\n",
              "      <th>1</th>\n",
              "      <td>2004-08-30</td>\n",
              "      <td>121.237503</td>\n",
              "      <td>123.750000</td>\n",
              "      <td>120.625</td>\n",
              "      <td>123.345001</td>\n",
              "      <td>90.293549</td>\n",
              "      <td>24465208.0</td>\n",
              "    </tr>\n",
              "  </tbody>\n",
              "</table>\n",
              "</div>\n",
              "    <div class=\"colab-df-buttons\">\n",
              "\n",
              "  <div class=\"colab-df-container\">\n",
              "    <button class=\"colab-df-convert\" onclick=\"convertToInteractive('df-9265ceba-1d64-444e-a1a0-fadfad561fcc')\"\n",
              "            title=\"Convert this dataframe to an interactive table.\"\n",
              "            style=\"display:none;\">\n",
              "\n",
              "  <svg xmlns=\"http://www.w3.org/2000/svg\" height=\"24px\" viewBox=\"0 -960 960 960\">\n",
              "    <path d=\"M120-120v-720h720v720H120Zm60-500h600v-160H180v160Zm220 220h160v-160H400v160Zm0 220h160v-160H400v160ZM180-400h160v-160H180v160Zm440 0h160v-160H620v160ZM180-180h160v-160H180v160Zm440 0h160v-160H620v160Z\"/>\n",
              "  </svg>\n",
              "    </button>\n",
              "\n",
              "  <style>\n",
              "    .colab-df-container {\n",
              "      display:flex;\n",
              "      gap: 12px;\n",
              "    }\n",
              "\n",
              "    .colab-df-convert {\n",
              "      background-color: #E8F0FE;\n",
              "      border: none;\n",
              "      border-radius: 50%;\n",
              "      cursor: pointer;\n",
              "      display: none;\n",
              "      fill: #1967D2;\n",
              "      height: 32px;\n",
              "      padding: 0 0 0 0;\n",
              "      width: 32px;\n",
              "    }\n",
              "\n",
              "    .colab-df-convert:hover {\n",
              "      background-color: #E2EBFA;\n",
              "      box-shadow: 0px 1px 2px rgba(60, 64, 67, 0.3), 0px 1px 3px 1px rgba(60, 64, 67, 0.15);\n",
              "      fill: #174EA6;\n",
              "    }\n",
              "\n",
              "    .colab-df-buttons div {\n",
              "      margin-bottom: 4px;\n",
              "    }\n",
              "\n",
              "    [theme=dark] .colab-df-convert {\n",
              "      background-color: #3B4455;\n",
              "      fill: #D2E3FC;\n",
              "    }\n",
              "\n",
              "    [theme=dark] .colab-df-convert:hover {\n",
              "      background-color: #434B5C;\n",
              "      box-shadow: 0px 1px 3px 1px rgba(0, 0, 0, 0.15);\n",
              "      filter: drop-shadow(0px 1px 2px rgba(0, 0, 0, 0.3));\n",
              "      fill: #FFFFFF;\n",
              "    }\n",
              "  </style>\n",
              "\n",
              "    <script>\n",
              "      const buttonEl =\n",
              "        document.querySelector('#df-9265ceba-1d64-444e-a1a0-fadfad561fcc button.colab-df-convert');\n",
              "      buttonEl.style.display =\n",
              "        google.colab.kernel.accessAllowed ? 'block' : 'none';\n",
              "\n",
              "      async function convertToInteractive(key) {\n",
              "        const element = document.querySelector('#df-9265ceba-1d64-444e-a1a0-fadfad561fcc');\n",
              "        const dataTable =\n",
              "          await google.colab.kernel.invokeFunction('convertToInteractive',\n",
              "                                                    [key], {});\n",
              "        if (!dataTable) return;\n",
              "\n",
              "        const docLinkHtml = 'Like what you see? Visit the ' +\n",
              "          '<a target=\"_blank\" href=https://colab.research.google.com/notebooks/data_table.ipynb>data table notebook</a>'\n",
              "          + ' to learn more about interactive tables.';\n",
              "        element.innerHTML = '';\n",
              "        dataTable['output_type'] = 'display_data';\n",
              "        await google.colab.output.renderOutput(dataTable, element);\n",
              "        const docLink = document.createElement('div');\n",
              "        docLink.innerHTML = docLinkHtml;\n",
              "        element.appendChild(docLink);\n",
              "      }\n",
              "    </script>\n",
              "  </div>\n",
              "\n",
              "\n",
              "<div id=\"df-73902bd7-5129-472c-ac54-9820b9ecdf1d\">\n",
              "  <button class=\"colab-df-quickchart\" onclick=\"quickchart('df-73902bd7-5129-472c-ac54-9820b9ecdf1d')\"\n",
              "            title=\"Suggest charts.\"\n",
              "            style=\"display:none;\">\n",
              "\n",
              "<svg xmlns=\"http://www.w3.org/2000/svg\" height=\"24px\"viewBox=\"0 0 24 24\"\n",
              "     width=\"24px\">\n",
              "    <g>\n",
              "        <path d=\"M19 3H5c-1.1 0-2 .9-2 2v14c0 1.1.9 2 2 2h14c1.1 0 2-.9 2-2V5c0-1.1-.9-2-2-2zM9 17H7v-7h2v7zm4 0h-2V7h2v10zm4 0h-2v-4h2v4z\"/>\n",
              "    </g>\n",
              "</svg>\n",
              "  </button>\n",
              "\n",
              "<style>\n",
              "  .colab-df-quickchart {\n",
              "      --bg-color: #E8F0FE;\n",
              "      --fill-color: #1967D2;\n",
              "      --hover-bg-color: #E2EBFA;\n",
              "      --hover-fill-color: #174EA6;\n",
              "      --disabled-fill-color: #AAA;\n",
              "      --disabled-bg-color: #DDD;\n",
              "  }\n",
              "\n",
              "  [theme=dark] .colab-df-quickchart {\n",
              "      --bg-color: #3B4455;\n",
              "      --fill-color: #D2E3FC;\n",
              "      --hover-bg-color: #434B5C;\n",
              "      --hover-fill-color: #FFFFFF;\n",
              "      --disabled-bg-color: #3B4455;\n",
              "      --disabled-fill-color: #666;\n",
              "  }\n",
              "\n",
              "  .colab-df-quickchart {\n",
              "    background-color: var(--bg-color);\n",
              "    border: none;\n",
              "    border-radius: 50%;\n",
              "    cursor: pointer;\n",
              "    display: none;\n",
              "    fill: var(--fill-color);\n",
              "    height: 32px;\n",
              "    padding: 0;\n",
              "    width: 32px;\n",
              "  }\n",
              "\n",
              "  .colab-df-quickchart:hover {\n",
              "    background-color: var(--hover-bg-color);\n",
              "    box-shadow: 0 1px 2px rgba(60, 64, 67, 0.3), 0 1px 3px 1px rgba(60, 64, 67, 0.15);\n",
              "    fill: var(--button-hover-fill-color);\n",
              "  }\n",
              "\n",
              "  .colab-df-quickchart-complete:disabled,\n",
              "  .colab-df-quickchart-complete:disabled:hover {\n",
              "    background-color: var(--disabled-bg-color);\n",
              "    fill: var(--disabled-fill-color);\n",
              "    box-shadow: none;\n",
              "  }\n",
              "\n",
              "  .colab-df-spinner {\n",
              "    border: 2px solid var(--fill-color);\n",
              "    border-color: transparent;\n",
              "    border-bottom-color: var(--fill-color);\n",
              "    animation:\n",
              "      spin 1s steps(1) infinite;\n",
              "  }\n",
              "\n",
              "  @keyframes spin {\n",
              "    0% {\n",
              "      border-color: transparent;\n",
              "      border-bottom-color: var(--fill-color);\n",
              "      border-left-color: var(--fill-color);\n",
              "    }\n",
              "    20% {\n",
              "      border-color: transparent;\n",
              "      border-left-color: var(--fill-color);\n",
              "      border-top-color: var(--fill-color);\n",
              "    }\n",
              "    30% {\n",
              "      border-color: transparent;\n",
              "      border-left-color: var(--fill-color);\n",
              "      border-top-color: var(--fill-color);\n",
              "      border-right-color: var(--fill-color);\n",
              "    }\n",
              "    40% {\n",
              "      border-color: transparent;\n",
              "      border-right-color: var(--fill-color);\n",
              "      border-top-color: var(--fill-color);\n",
              "    }\n",
              "    60% {\n",
              "      border-color: transparent;\n",
              "      border-right-color: var(--fill-color);\n",
              "    }\n",
              "    80% {\n",
              "      border-color: transparent;\n",
              "      border-right-color: var(--fill-color);\n",
              "      border-bottom-color: var(--fill-color);\n",
              "    }\n",
              "    90% {\n",
              "      border-color: transparent;\n",
              "      border-bottom-color: var(--fill-color);\n",
              "    }\n",
              "  }\n",
              "</style>\n",
              "\n",
              "  <script>\n",
              "    async function quickchart(key) {\n",
              "      const quickchartButtonEl =\n",
              "        document.querySelector('#' + key + ' button');\n",
              "      quickchartButtonEl.disabled = true;  // To prevent multiple clicks.\n",
              "      quickchartButtonEl.classList.add('colab-df-spinner');\n",
              "      try {\n",
              "        const charts = await google.colab.kernel.invokeFunction(\n",
              "            'suggestCharts', [key], {});\n",
              "      } catch (error) {\n",
              "        console.error('Error during call to suggestCharts:', error);\n",
              "      }\n",
              "      quickchartButtonEl.classList.remove('colab-df-spinner');\n",
              "      quickchartButtonEl.classList.add('colab-df-quickchart-complete');\n",
              "    }\n",
              "    (() => {\n",
              "      let quickchartButtonEl =\n",
              "        document.querySelector('#df-73902bd7-5129-472c-ac54-9820b9ecdf1d button');\n",
              "      quickchartButtonEl.style.display =\n",
              "        google.colab.kernel.accessAllowed ? 'block' : 'none';\n",
              "    })();\n",
              "  </script>\n",
              "</div>\n",
              "    </div>\n",
              "  </div>\n"
            ]
          },
          "metadata": {},
          "execution_count": 25
        }
      ],
      "source": [
        "df.head(2)\n",
        "# it returns up to 2 entries"
      ]
    },
    {
      "cell_type": "code",
      "execution_count": 26,
      "id": "3644e724",
      "metadata": {
        "execution": {
          "iopub.execute_input": "2022-10-27T08:44:05.974568Z",
          "iopub.status.busy": "2022-10-27T08:44:05.974138Z",
          "iopub.status.idle": "2022-10-27T08:44:05.981618Z",
          "shell.execute_reply": "2022-10-27T08:44:05.980518Z"
        },
        "id": "3644e724",
        "papermill": {
          "duration": 0.022308,
          "end_time": "2022-10-27T08:44:05.983952",
          "exception": false,
          "start_time": "2022-10-27T08:44:05.961644",
          "status": "completed"
        },
        "tags": []
      },
      "outputs": [],
      "source": [
        "x = df.iloc[:,[1,2,3,6]]\n",
        "y = df.iloc[:,[4]]"
      ]
    },
    {
      "cell_type": "code",
      "execution_count": 27,
      "id": "624aae98",
      "metadata": {
        "execution": {
          "iopub.execute_input": "2022-10-27T08:44:06.009950Z",
          "iopub.status.busy": "2022-10-27T08:44:06.008955Z",
          "iopub.status.idle": "2022-10-27T08:44:06.023533Z",
          "shell.execute_reply": "2022-10-27T08:44:06.022199Z"
        },
        "id": "624aae98",
        "papermill": {
          "duration": 0.031148,
          "end_time": "2022-10-27T08:44:06.026461",
          "exception": false,
          "start_time": "2022-10-27T08:44:05.995313",
          "status": "completed"
        },
        "tags": [],
        "colab": {
          "base_uri": "https://localhost:8080/",
          "height": 423
        },
        "outputId": "ff03bdab-2b53-4d53-99d6-edf87237188e"
      },
      "outputs": [
        {
          "output_type": "execute_result",
          "data": {
            "text/plain": [
              "             Open         High          Low      Volume\n",
              "0      122.800003   122.800003   119.820000  30646000.0\n",
              "1      121.237503   123.750000   120.625000  24465208.0\n",
              "2      123.312500   123.750000   122.000000  21194656.0\n",
              "3      123.750000   124.375000   122.949997  19935544.0\n",
              "4      123.737503   125.574997   123.250000  21356352.0\n",
              "...           ...          ...          ...         ...\n",
              "4489  3150.000000  3155.350098  3128.550049   1793722.0\n",
              "4490  3159.000000  3159.000000  3112.000000   1194289.0\n",
              "4491  3105.000000  3160.000000  3105.000000   1587601.0\n",
              "4492  3157.800049  3160.399902  3127.000000   1021913.0\n",
              "4493  3170.100098  3178.000000  3155.000000    260949.0\n",
              "\n",
              "[4494 rows x 4 columns]"
            ],
            "text/html": [
              "\n",
              "  <div id=\"df-ab3a1b8e-ff25-45f8-8ee4-2f47cd750955\" class=\"colab-df-container\">\n",
              "    <div>\n",
              "<style scoped>\n",
              "    .dataframe tbody tr th:only-of-type {\n",
              "        vertical-align: middle;\n",
              "    }\n",
              "\n",
              "    .dataframe tbody tr th {\n",
              "        vertical-align: top;\n",
              "    }\n",
              "\n",
              "    .dataframe thead th {\n",
              "        text-align: right;\n",
              "    }\n",
              "</style>\n",
              "<table border=\"1\" class=\"dataframe\">\n",
              "  <thead>\n",
              "    <tr style=\"text-align: right;\">\n",
              "      <th></th>\n",
              "      <th>Open</th>\n",
              "      <th>High</th>\n",
              "      <th>Low</th>\n",
              "      <th>Volume</th>\n",
              "    </tr>\n",
              "  </thead>\n",
              "  <tbody>\n",
              "    <tr>\n",
              "      <th>0</th>\n",
              "      <td>122.800003</td>\n",
              "      <td>122.800003</td>\n",
              "      <td>119.820000</td>\n",
              "      <td>30646000.0</td>\n",
              "    </tr>\n",
              "    <tr>\n",
              "      <th>1</th>\n",
              "      <td>121.237503</td>\n",
              "      <td>123.750000</td>\n",
              "      <td>120.625000</td>\n",
              "      <td>24465208.0</td>\n",
              "    </tr>\n",
              "    <tr>\n",
              "      <th>2</th>\n",
              "      <td>123.312500</td>\n",
              "      <td>123.750000</td>\n",
              "      <td>122.000000</td>\n",
              "      <td>21194656.0</td>\n",
              "    </tr>\n",
              "    <tr>\n",
              "      <th>3</th>\n",
              "      <td>123.750000</td>\n",
              "      <td>124.375000</td>\n",
              "      <td>122.949997</td>\n",
              "      <td>19935544.0</td>\n",
              "    </tr>\n",
              "    <tr>\n",
              "      <th>4</th>\n",
              "      <td>123.737503</td>\n",
              "      <td>125.574997</td>\n",
              "      <td>123.250000</td>\n",
              "      <td>21356352.0</td>\n",
              "    </tr>\n",
              "    <tr>\n",
              "      <th>...</th>\n",
              "      <td>...</td>\n",
              "      <td>...</td>\n",
              "      <td>...</td>\n",
              "      <td>...</td>\n",
              "    </tr>\n",
              "    <tr>\n",
              "      <th>4489</th>\n",
              "      <td>3150.000000</td>\n",
              "      <td>3155.350098</td>\n",
              "      <td>3128.550049</td>\n",
              "      <td>1793722.0</td>\n",
              "    </tr>\n",
              "    <tr>\n",
              "      <th>4490</th>\n",
              "      <td>3159.000000</td>\n",
              "      <td>3159.000000</td>\n",
              "      <td>3112.000000</td>\n",
              "      <td>1194289.0</td>\n",
              "    </tr>\n",
              "    <tr>\n",
              "      <th>4491</th>\n",
              "      <td>3105.000000</td>\n",
              "      <td>3160.000000</td>\n",
              "      <td>3105.000000</td>\n",
              "      <td>1587601.0</td>\n",
              "    </tr>\n",
              "    <tr>\n",
              "      <th>4492</th>\n",
              "      <td>3157.800049</td>\n",
              "      <td>3160.399902</td>\n",
              "      <td>3127.000000</td>\n",
              "      <td>1021913.0</td>\n",
              "    </tr>\n",
              "    <tr>\n",
              "      <th>4493</th>\n",
              "      <td>3170.100098</td>\n",
              "      <td>3178.000000</td>\n",
              "      <td>3155.000000</td>\n",
              "      <td>260949.0</td>\n",
              "    </tr>\n",
              "  </tbody>\n",
              "</table>\n",
              "<p>4494 rows × 4 columns</p>\n",
              "</div>\n",
              "    <div class=\"colab-df-buttons\">\n",
              "\n",
              "  <div class=\"colab-df-container\">\n",
              "    <button class=\"colab-df-convert\" onclick=\"convertToInteractive('df-ab3a1b8e-ff25-45f8-8ee4-2f47cd750955')\"\n",
              "            title=\"Convert this dataframe to an interactive table.\"\n",
              "            style=\"display:none;\">\n",
              "\n",
              "  <svg xmlns=\"http://www.w3.org/2000/svg\" height=\"24px\" viewBox=\"0 -960 960 960\">\n",
              "    <path d=\"M120-120v-720h720v720H120Zm60-500h600v-160H180v160Zm220 220h160v-160H400v160Zm0 220h160v-160H400v160ZM180-400h160v-160H180v160Zm440 0h160v-160H620v160ZM180-180h160v-160H180v160Zm440 0h160v-160H620v160Z\"/>\n",
              "  </svg>\n",
              "    </button>\n",
              "\n",
              "  <style>\n",
              "    .colab-df-container {\n",
              "      display:flex;\n",
              "      gap: 12px;\n",
              "    }\n",
              "\n",
              "    .colab-df-convert {\n",
              "      background-color: #E8F0FE;\n",
              "      border: none;\n",
              "      border-radius: 50%;\n",
              "      cursor: pointer;\n",
              "      display: none;\n",
              "      fill: #1967D2;\n",
              "      height: 32px;\n",
              "      padding: 0 0 0 0;\n",
              "      width: 32px;\n",
              "    }\n",
              "\n",
              "    .colab-df-convert:hover {\n",
              "      background-color: #E2EBFA;\n",
              "      box-shadow: 0px 1px 2px rgba(60, 64, 67, 0.3), 0px 1px 3px 1px rgba(60, 64, 67, 0.15);\n",
              "      fill: #174EA6;\n",
              "    }\n",
              "\n",
              "    .colab-df-buttons div {\n",
              "      margin-bottom: 4px;\n",
              "    }\n",
              "\n",
              "    [theme=dark] .colab-df-convert {\n",
              "      background-color: #3B4455;\n",
              "      fill: #D2E3FC;\n",
              "    }\n",
              "\n",
              "    [theme=dark] .colab-df-convert:hover {\n",
              "      background-color: #434B5C;\n",
              "      box-shadow: 0px 1px 3px 1px rgba(0, 0, 0, 0.15);\n",
              "      filter: drop-shadow(0px 1px 2px rgba(0, 0, 0, 0.3));\n",
              "      fill: #FFFFFF;\n",
              "    }\n",
              "  </style>\n",
              "\n",
              "    <script>\n",
              "      const buttonEl =\n",
              "        document.querySelector('#df-ab3a1b8e-ff25-45f8-8ee4-2f47cd750955 button.colab-df-convert');\n",
              "      buttonEl.style.display =\n",
              "        google.colab.kernel.accessAllowed ? 'block' : 'none';\n",
              "\n",
              "      async function convertToInteractive(key) {\n",
              "        const element = document.querySelector('#df-ab3a1b8e-ff25-45f8-8ee4-2f47cd750955');\n",
              "        const dataTable =\n",
              "          await google.colab.kernel.invokeFunction('convertToInteractive',\n",
              "                                                    [key], {});\n",
              "        if (!dataTable) return;\n",
              "\n",
              "        const docLinkHtml = 'Like what you see? Visit the ' +\n",
              "          '<a target=\"_blank\" href=https://colab.research.google.com/notebooks/data_table.ipynb>data table notebook</a>'\n",
              "          + ' to learn more about interactive tables.';\n",
              "        element.innerHTML = '';\n",
              "        dataTable['output_type'] = 'display_data';\n",
              "        await google.colab.output.renderOutput(dataTable, element);\n",
              "        const docLink = document.createElement('div');\n",
              "        docLink.innerHTML = docLinkHtml;\n",
              "        element.appendChild(docLink);\n",
              "      }\n",
              "    </script>\n",
              "  </div>\n",
              "\n",
              "\n",
              "<div id=\"df-be899e4c-876d-499e-99d1-5f751856edd9\">\n",
              "  <button class=\"colab-df-quickchart\" onclick=\"quickchart('df-be899e4c-876d-499e-99d1-5f751856edd9')\"\n",
              "            title=\"Suggest charts.\"\n",
              "            style=\"display:none;\">\n",
              "\n",
              "<svg xmlns=\"http://www.w3.org/2000/svg\" height=\"24px\"viewBox=\"0 0 24 24\"\n",
              "     width=\"24px\">\n",
              "    <g>\n",
              "        <path d=\"M19 3H5c-1.1 0-2 .9-2 2v14c0 1.1.9 2 2 2h14c1.1 0 2-.9 2-2V5c0-1.1-.9-2-2-2zM9 17H7v-7h2v7zm4 0h-2V7h2v10zm4 0h-2v-4h2v4z\"/>\n",
              "    </g>\n",
              "</svg>\n",
              "  </button>\n",
              "\n",
              "<style>\n",
              "  .colab-df-quickchart {\n",
              "      --bg-color: #E8F0FE;\n",
              "      --fill-color: #1967D2;\n",
              "      --hover-bg-color: #E2EBFA;\n",
              "      --hover-fill-color: #174EA6;\n",
              "      --disabled-fill-color: #AAA;\n",
              "      --disabled-bg-color: #DDD;\n",
              "  }\n",
              "\n",
              "  [theme=dark] .colab-df-quickchart {\n",
              "      --bg-color: #3B4455;\n",
              "      --fill-color: #D2E3FC;\n",
              "      --hover-bg-color: #434B5C;\n",
              "      --hover-fill-color: #FFFFFF;\n",
              "      --disabled-bg-color: #3B4455;\n",
              "      --disabled-fill-color: #666;\n",
              "  }\n",
              "\n",
              "  .colab-df-quickchart {\n",
              "    background-color: var(--bg-color);\n",
              "    border: none;\n",
              "    border-radius: 50%;\n",
              "    cursor: pointer;\n",
              "    display: none;\n",
              "    fill: var(--fill-color);\n",
              "    height: 32px;\n",
              "    padding: 0;\n",
              "    width: 32px;\n",
              "  }\n",
              "\n",
              "  .colab-df-quickchart:hover {\n",
              "    background-color: var(--hover-bg-color);\n",
              "    box-shadow: 0 1px 2px rgba(60, 64, 67, 0.3), 0 1px 3px 1px rgba(60, 64, 67, 0.15);\n",
              "    fill: var(--button-hover-fill-color);\n",
              "  }\n",
              "\n",
              "  .colab-df-quickchart-complete:disabled,\n",
              "  .colab-df-quickchart-complete:disabled:hover {\n",
              "    background-color: var(--disabled-bg-color);\n",
              "    fill: var(--disabled-fill-color);\n",
              "    box-shadow: none;\n",
              "  }\n",
              "\n",
              "  .colab-df-spinner {\n",
              "    border: 2px solid var(--fill-color);\n",
              "    border-color: transparent;\n",
              "    border-bottom-color: var(--fill-color);\n",
              "    animation:\n",
              "      spin 1s steps(1) infinite;\n",
              "  }\n",
              "\n",
              "  @keyframes spin {\n",
              "    0% {\n",
              "      border-color: transparent;\n",
              "      border-bottom-color: var(--fill-color);\n",
              "      border-left-color: var(--fill-color);\n",
              "    }\n",
              "    20% {\n",
              "      border-color: transparent;\n",
              "      border-left-color: var(--fill-color);\n",
              "      border-top-color: var(--fill-color);\n",
              "    }\n",
              "    30% {\n",
              "      border-color: transparent;\n",
              "      border-left-color: var(--fill-color);\n",
              "      border-top-color: var(--fill-color);\n",
              "      border-right-color: var(--fill-color);\n",
              "    }\n",
              "    40% {\n",
              "      border-color: transparent;\n",
              "      border-right-color: var(--fill-color);\n",
              "      border-top-color: var(--fill-color);\n",
              "    }\n",
              "    60% {\n",
              "      border-color: transparent;\n",
              "      border-right-color: var(--fill-color);\n",
              "    }\n",
              "    80% {\n",
              "      border-color: transparent;\n",
              "      border-right-color: var(--fill-color);\n",
              "      border-bottom-color: var(--fill-color);\n",
              "    }\n",
              "    90% {\n",
              "      border-color: transparent;\n",
              "      border-bottom-color: var(--fill-color);\n",
              "    }\n",
              "  }\n",
              "</style>\n",
              "\n",
              "  <script>\n",
              "    async function quickchart(key) {\n",
              "      const quickchartButtonEl =\n",
              "        document.querySelector('#' + key + ' button');\n",
              "      quickchartButtonEl.disabled = true;  // To prevent multiple clicks.\n",
              "      quickchartButtonEl.classList.add('colab-df-spinner');\n",
              "      try {\n",
              "        const charts = await google.colab.kernel.invokeFunction(\n",
              "            'suggestCharts', [key], {});\n",
              "      } catch (error) {\n",
              "        console.error('Error during call to suggestCharts:', error);\n",
              "      }\n",
              "      quickchartButtonEl.classList.remove('colab-df-spinner');\n",
              "      quickchartButtonEl.classList.add('colab-df-quickchart-complete');\n",
              "    }\n",
              "    (() => {\n",
              "      let quickchartButtonEl =\n",
              "        document.querySelector('#df-be899e4c-876d-499e-99d1-5f751856edd9 button');\n",
              "      quickchartButtonEl.style.display =\n",
              "        google.colab.kernel.accessAllowed ? 'block' : 'none';\n",
              "    })();\n",
              "  </script>\n",
              "</div>\n",
              "    </div>\n",
              "  </div>\n"
            ]
          },
          "metadata": {},
          "execution_count": 27
        }
      ],
      "source": [
        "x\n",
        "# our input variables"
      ]
    },
    {
      "cell_type": "code",
      "execution_count": 28,
      "id": "76c5dd98",
      "metadata": {
        "execution": {
          "iopub.execute_input": "2022-10-27T08:44:06.052053Z",
          "iopub.status.busy": "2022-10-27T08:44:06.051603Z",
          "iopub.status.idle": "2022-10-27T08:44:06.065690Z",
          "shell.execute_reply": "2022-10-27T08:44:06.064135Z"
        },
        "id": "76c5dd98",
        "papermill": {
          "duration": 0.029675,
          "end_time": "2022-10-27T08:44:06.068234",
          "exception": false,
          "start_time": "2022-10-27T08:44:06.038559",
          "status": "completed"
        },
        "tags": [],
        "colab": {
          "base_uri": "https://localhost:8080/",
          "height": 423
        },
        "outputId": "c8f26fe4-b95f-4dc8-eca0-45917a4936ff"
      },
      "outputs": [
        {
          "output_type": "execute_result",
          "data": {
            "text/plain": [
              "            Close\n",
              "0      120.332497\n",
              "1      123.345001\n",
              "2      123.512497\n",
              "3      123.487503\n",
              "4      124.207497\n",
              "...           ...\n",
              "4489  3144.699951\n",
              "4490  3121.850098\n",
              "4491  3157.300049\n",
              "4492  3137.399902\n",
              "4493  3161.699951\n",
              "\n",
              "[4494 rows x 1 columns]"
            ],
            "text/html": [
              "\n",
              "  <div id=\"df-fe784864-65ad-4f9c-baf7-efa13c2f096a\" class=\"colab-df-container\">\n",
              "    <div>\n",
              "<style scoped>\n",
              "    .dataframe tbody tr th:only-of-type {\n",
              "        vertical-align: middle;\n",
              "    }\n",
              "\n",
              "    .dataframe tbody tr th {\n",
              "        vertical-align: top;\n",
              "    }\n",
              "\n",
              "    .dataframe thead th {\n",
              "        text-align: right;\n",
              "    }\n",
              "</style>\n",
              "<table border=\"1\" class=\"dataframe\">\n",
              "  <thead>\n",
              "    <tr style=\"text-align: right;\">\n",
              "      <th></th>\n",
              "      <th>Close</th>\n",
              "    </tr>\n",
              "  </thead>\n",
              "  <tbody>\n",
              "    <tr>\n",
              "      <th>0</th>\n",
              "      <td>120.332497</td>\n",
              "    </tr>\n",
              "    <tr>\n",
              "      <th>1</th>\n",
              "      <td>123.345001</td>\n",
              "    </tr>\n",
              "    <tr>\n",
              "      <th>2</th>\n",
              "      <td>123.512497</td>\n",
              "    </tr>\n",
              "    <tr>\n",
              "      <th>3</th>\n",
              "      <td>123.487503</td>\n",
              "    </tr>\n",
              "    <tr>\n",
              "      <th>4</th>\n",
              "      <td>124.207497</td>\n",
              "    </tr>\n",
              "    <tr>\n",
              "      <th>...</th>\n",
              "      <td>...</td>\n",
              "    </tr>\n",
              "    <tr>\n",
              "      <th>4489</th>\n",
              "      <td>3144.699951</td>\n",
              "    </tr>\n",
              "    <tr>\n",
              "      <th>4490</th>\n",
              "      <td>3121.850098</td>\n",
              "    </tr>\n",
              "    <tr>\n",
              "      <th>4491</th>\n",
              "      <td>3157.300049</td>\n",
              "    </tr>\n",
              "    <tr>\n",
              "      <th>4492</th>\n",
              "      <td>3137.399902</td>\n",
              "    </tr>\n",
              "    <tr>\n",
              "      <th>4493</th>\n",
              "      <td>3161.699951</td>\n",
              "    </tr>\n",
              "  </tbody>\n",
              "</table>\n",
              "<p>4494 rows × 1 columns</p>\n",
              "</div>\n",
              "    <div class=\"colab-df-buttons\">\n",
              "\n",
              "  <div class=\"colab-df-container\">\n",
              "    <button class=\"colab-df-convert\" onclick=\"convertToInteractive('df-fe784864-65ad-4f9c-baf7-efa13c2f096a')\"\n",
              "            title=\"Convert this dataframe to an interactive table.\"\n",
              "            style=\"display:none;\">\n",
              "\n",
              "  <svg xmlns=\"http://www.w3.org/2000/svg\" height=\"24px\" viewBox=\"0 -960 960 960\">\n",
              "    <path d=\"M120-120v-720h720v720H120Zm60-500h600v-160H180v160Zm220 220h160v-160H400v160Zm0 220h160v-160H400v160ZM180-400h160v-160H180v160Zm440 0h160v-160H620v160ZM180-180h160v-160H180v160Zm440 0h160v-160H620v160Z\"/>\n",
              "  </svg>\n",
              "    </button>\n",
              "\n",
              "  <style>\n",
              "    .colab-df-container {\n",
              "      display:flex;\n",
              "      gap: 12px;\n",
              "    }\n",
              "\n",
              "    .colab-df-convert {\n",
              "      background-color: #E8F0FE;\n",
              "      border: none;\n",
              "      border-radius: 50%;\n",
              "      cursor: pointer;\n",
              "      display: none;\n",
              "      fill: #1967D2;\n",
              "      height: 32px;\n",
              "      padding: 0 0 0 0;\n",
              "      width: 32px;\n",
              "    }\n",
              "\n",
              "    .colab-df-convert:hover {\n",
              "      background-color: #E2EBFA;\n",
              "      box-shadow: 0px 1px 2px rgba(60, 64, 67, 0.3), 0px 1px 3px 1px rgba(60, 64, 67, 0.15);\n",
              "      fill: #174EA6;\n",
              "    }\n",
              "\n",
              "    .colab-df-buttons div {\n",
              "      margin-bottom: 4px;\n",
              "    }\n",
              "\n",
              "    [theme=dark] .colab-df-convert {\n",
              "      background-color: #3B4455;\n",
              "      fill: #D2E3FC;\n",
              "    }\n",
              "\n",
              "    [theme=dark] .colab-df-convert:hover {\n",
              "      background-color: #434B5C;\n",
              "      box-shadow: 0px 1px 3px 1px rgba(0, 0, 0, 0.15);\n",
              "      filter: drop-shadow(0px 1px 2px rgba(0, 0, 0, 0.3));\n",
              "      fill: #FFFFFF;\n",
              "    }\n",
              "  </style>\n",
              "\n",
              "    <script>\n",
              "      const buttonEl =\n",
              "        document.querySelector('#df-fe784864-65ad-4f9c-baf7-efa13c2f096a button.colab-df-convert');\n",
              "      buttonEl.style.display =\n",
              "        google.colab.kernel.accessAllowed ? 'block' : 'none';\n",
              "\n",
              "      async function convertToInteractive(key) {\n",
              "        const element = document.querySelector('#df-fe784864-65ad-4f9c-baf7-efa13c2f096a');\n",
              "        const dataTable =\n",
              "          await google.colab.kernel.invokeFunction('convertToInteractive',\n",
              "                                                    [key], {});\n",
              "        if (!dataTable) return;\n",
              "\n",
              "        const docLinkHtml = 'Like what you see? Visit the ' +\n",
              "          '<a target=\"_blank\" href=https://colab.research.google.com/notebooks/data_table.ipynb>data table notebook</a>'\n",
              "          + ' to learn more about interactive tables.';\n",
              "        element.innerHTML = '';\n",
              "        dataTable['output_type'] = 'display_data';\n",
              "        await google.colab.output.renderOutput(dataTable, element);\n",
              "        const docLink = document.createElement('div');\n",
              "        docLink.innerHTML = docLinkHtml;\n",
              "        element.appendChild(docLink);\n",
              "      }\n",
              "    </script>\n",
              "  </div>\n",
              "\n",
              "\n",
              "<div id=\"df-9583bc7a-ca9f-4f59-8362-d667c6e99029\">\n",
              "  <button class=\"colab-df-quickchart\" onclick=\"quickchart('df-9583bc7a-ca9f-4f59-8362-d667c6e99029')\"\n",
              "            title=\"Suggest charts.\"\n",
              "            style=\"display:none;\">\n",
              "\n",
              "<svg xmlns=\"http://www.w3.org/2000/svg\" height=\"24px\"viewBox=\"0 0 24 24\"\n",
              "     width=\"24px\">\n",
              "    <g>\n",
              "        <path d=\"M19 3H5c-1.1 0-2 .9-2 2v14c0 1.1.9 2 2 2h14c1.1 0 2-.9 2-2V5c0-1.1-.9-2-2-2zM9 17H7v-7h2v7zm4 0h-2V7h2v10zm4 0h-2v-4h2v4z\"/>\n",
              "    </g>\n",
              "</svg>\n",
              "  </button>\n",
              "\n",
              "<style>\n",
              "  .colab-df-quickchart {\n",
              "      --bg-color: #E8F0FE;\n",
              "      --fill-color: #1967D2;\n",
              "      --hover-bg-color: #E2EBFA;\n",
              "      --hover-fill-color: #174EA6;\n",
              "      --disabled-fill-color: #AAA;\n",
              "      --disabled-bg-color: #DDD;\n",
              "  }\n",
              "\n",
              "  [theme=dark] .colab-df-quickchart {\n",
              "      --bg-color: #3B4455;\n",
              "      --fill-color: #D2E3FC;\n",
              "      --hover-bg-color: #434B5C;\n",
              "      --hover-fill-color: #FFFFFF;\n",
              "      --disabled-bg-color: #3B4455;\n",
              "      --disabled-fill-color: #666;\n",
              "  }\n",
              "\n",
              "  .colab-df-quickchart {\n",
              "    background-color: var(--bg-color);\n",
              "    border: none;\n",
              "    border-radius: 50%;\n",
              "    cursor: pointer;\n",
              "    display: none;\n",
              "    fill: var(--fill-color);\n",
              "    height: 32px;\n",
              "    padding: 0;\n",
              "    width: 32px;\n",
              "  }\n",
              "\n",
              "  .colab-df-quickchart:hover {\n",
              "    background-color: var(--hover-bg-color);\n",
              "    box-shadow: 0 1px 2px rgba(60, 64, 67, 0.3), 0 1px 3px 1px rgba(60, 64, 67, 0.15);\n",
              "    fill: var(--button-hover-fill-color);\n",
              "  }\n",
              "\n",
              "  .colab-df-quickchart-complete:disabled,\n",
              "  .colab-df-quickchart-complete:disabled:hover {\n",
              "    background-color: var(--disabled-bg-color);\n",
              "    fill: var(--disabled-fill-color);\n",
              "    box-shadow: none;\n",
              "  }\n",
              "\n",
              "  .colab-df-spinner {\n",
              "    border: 2px solid var(--fill-color);\n",
              "    border-color: transparent;\n",
              "    border-bottom-color: var(--fill-color);\n",
              "    animation:\n",
              "      spin 1s steps(1) infinite;\n",
              "  }\n",
              "\n",
              "  @keyframes spin {\n",
              "    0% {\n",
              "      border-color: transparent;\n",
              "      border-bottom-color: var(--fill-color);\n",
              "      border-left-color: var(--fill-color);\n",
              "    }\n",
              "    20% {\n",
              "      border-color: transparent;\n",
              "      border-left-color: var(--fill-color);\n",
              "      border-top-color: var(--fill-color);\n",
              "    }\n",
              "    30% {\n",
              "      border-color: transparent;\n",
              "      border-left-color: var(--fill-color);\n",
              "      border-top-color: var(--fill-color);\n",
              "      border-right-color: var(--fill-color);\n",
              "    }\n",
              "    40% {\n",
              "      border-color: transparent;\n",
              "      border-right-color: var(--fill-color);\n",
              "      border-top-color: var(--fill-color);\n",
              "    }\n",
              "    60% {\n",
              "      border-color: transparent;\n",
              "      border-right-color: var(--fill-color);\n",
              "    }\n",
              "    80% {\n",
              "      border-color: transparent;\n",
              "      border-right-color: var(--fill-color);\n",
              "      border-bottom-color: var(--fill-color);\n",
              "    }\n",
              "    90% {\n",
              "      border-color: transparent;\n",
              "      border-bottom-color: var(--fill-color);\n",
              "    }\n",
              "  }\n",
              "</style>\n",
              "\n",
              "  <script>\n",
              "    async function quickchart(key) {\n",
              "      const quickchartButtonEl =\n",
              "        document.querySelector('#' + key + ' button');\n",
              "      quickchartButtonEl.disabled = true;  // To prevent multiple clicks.\n",
              "      quickchartButtonEl.classList.add('colab-df-spinner');\n",
              "      try {\n",
              "        const charts = await google.colab.kernel.invokeFunction(\n",
              "            'suggestCharts', [key], {});\n",
              "      } catch (error) {\n",
              "        console.error('Error during call to suggestCharts:', error);\n",
              "      }\n",
              "      quickchartButtonEl.classList.remove('colab-df-spinner');\n",
              "      quickchartButtonEl.classList.add('colab-df-quickchart-complete');\n",
              "    }\n",
              "    (() => {\n",
              "      let quickchartButtonEl =\n",
              "        document.querySelector('#df-9583bc7a-ca9f-4f59-8362-d667c6e99029 button');\n",
              "      quickchartButtonEl.style.display =\n",
              "        google.colab.kernel.accessAllowed ? 'block' : 'none';\n",
              "    })();\n",
              "  </script>\n",
              "</div>\n",
              "    </div>\n",
              "  </div>\n"
            ]
          },
          "metadata": {},
          "execution_count": 28
        }
      ],
      "source": [
        "y\n",
        "# Our target Variable"
      ]
    },
    {
      "cell_type": "code",
      "execution_count": 29,
      "id": "2705ed76",
      "metadata": {
        "execution": {
          "iopub.execute_input": "2022-10-27T08:44:06.093074Z",
          "iopub.status.busy": "2022-10-27T08:44:06.092593Z",
          "iopub.status.idle": "2022-10-27T08:44:06.098277Z",
          "shell.execute_reply": "2022-10-27T08:44:06.096943Z"
        },
        "id": "2705ed76",
        "papermill": {
          "duration": 0.021224,
          "end_time": "2022-10-27T08:44:06.100978",
          "exception": false,
          "start_time": "2022-10-27T08:44:06.079754",
          "status": "completed"
        },
        "tags": []
      },
      "outputs": [],
      "source": [
        "# Model making using RandomForestRegressor"
      ]
    },
    {
      "cell_type": "code",
      "execution_count": 30,
      "id": "45d2638b",
      "metadata": {
        "execution": {
          "iopub.execute_input": "2022-10-27T08:44:06.126984Z",
          "iopub.status.busy": "2022-10-27T08:44:06.126524Z",
          "iopub.status.idle": "2022-10-27T08:44:06.348713Z",
          "shell.execute_reply": "2022-10-27T08:44:06.347408Z"
        },
        "id": "45d2638b",
        "papermill": {
          "duration": 0.23918,
          "end_time": "2022-10-27T08:44:06.352001",
          "exception": false,
          "start_time": "2022-10-27T08:44:06.112821",
          "status": "completed"
        },
        "tags": []
      },
      "outputs": [],
      "source": [
        "from sklearn.model_selection import train_test_split\n",
        "x_train,x_test,y_train,y_test = train_test_split(x,y)"
      ]
    },
    {
      "cell_type": "code",
      "execution_count": null,
      "id": "27e0af4a",
      "metadata": {
        "execution": {
          "iopub.execute_input": "2022-10-27T08:44:06.378303Z",
          "iopub.status.busy": "2022-10-27T08:44:06.377474Z",
          "iopub.status.idle": "2022-10-27T08:44:06.384923Z",
          "shell.execute_reply": "2022-10-27T08:44:06.383912Z"
        },
        "id": "27e0af4a",
        "papermill": {
          "duration": 0.02342,
          "end_time": "2022-10-27T08:44:06.387362",
          "exception": false,
          "start_time": "2022-10-27T08:44:06.363942",
          "status": "completed"
        },
        "tags": [],
        "outputId": "4e694aee-07d5-4ea4-d179-7fdd1487c9f4"
      },
      "outputs": [
        {
          "data": {
            "text/plain": [
              "(3370, 4)"
            ]
          },
          "execution_count": 27,
          "metadata": {},
          "output_type": "execute_result"
        }
      ],
      "source": [
        "x_train.shape\n",
        "# to get the shape of the training data"
      ]
    },
    {
      "cell_type": "code",
      "execution_count": 31,
      "id": "6e45eb5d",
      "metadata": {
        "execution": {
          "iopub.execute_input": "2022-10-27T08:44:06.414033Z",
          "iopub.status.busy": "2022-10-27T08:44:06.413120Z",
          "iopub.status.idle": "2022-10-27T08:44:06.420540Z",
          "shell.execute_reply": "2022-10-27T08:44:06.419617Z"
        },
        "id": "6e45eb5d",
        "papermill": {
          "duration": 0.02346,
          "end_time": "2022-10-27T08:44:06.422814",
          "exception": false,
          "start_time": "2022-10-27T08:44:06.399354",
          "status": "completed"
        },
        "tags": [],
        "colab": {
          "base_uri": "https://localhost:8080/"
        },
        "outputId": "420b3d31-5261-4657-8ff0-07705558e5b8"
      },
      "outputs": [
        {
          "output_type": "execute_result",
          "data": {
            "text/plain": [
              "(3370, 1)"
            ]
          },
          "metadata": {},
          "execution_count": 31
        }
      ],
      "source": [
        "y_train.shape"
      ]
    },
    {
      "cell_type": "code",
      "execution_count": 32,
      "id": "a8dd0cd9",
      "metadata": {
        "execution": {
          "iopub.execute_input": "2022-10-27T08:44:06.450048Z",
          "iopub.status.busy": "2022-10-27T08:44:06.449124Z",
          "iopub.status.idle": "2022-10-27T08:44:06.456723Z",
          "shell.execute_reply": "2022-10-27T08:44:06.455755Z"
        },
        "id": "a8dd0cd9",
        "papermill": {
          "duration": 0.024162,
          "end_time": "2022-10-27T08:44:06.459072",
          "exception": false,
          "start_time": "2022-10-27T08:44:06.434910",
          "status": "completed"
        },
        "tags": [],
        "colab": {
          "base_uri": "https://localhost:8080/"
        },
        "outputId": "e395871a-bb2a-4893-8f3c-6da3015f3e88"
      },
      "outputs": [
        {
          "output_type": "execute_result",
          "data": {
            "text/plain": [
              "(1124, 4)"
            ]
          },
          "metadata": {},
          "execution_count": 32
        }
      ],
      "source": [
        "x_test.shape"
      ]
    },
    {
      "cell_type": "code",
      "execution_count": 33,
      "id": "22da4072",
      "metadata": {
        "execution": {
          "iopub.execute_input": "2022-10-27T08:44:06.486210Z",
          "iopub.status.busy": "2022-10-27T08:44:06.485259Z",
          "iopub.status.idle": "2022-10-27T08:44:06.493107Z",
          "shell.execute_reply": "2022-10-27T08:44:06.491940Z"
        },
        "id": "22da4072",
        "papermill": {
          "duration": 0.024371,
          "end_time": "2022-10-27T08:44:06.495656",
          "exception": false,
          "start_time": "2022-10-27T08:44:06.471285",
          "status": "completed"
        },
        "tags": [],
        "colab": {
          "base_uri": "https://localhost:8080/"
        },
        "outputId": "a37c6c8e-9225-49d2-b693-93aecd232253"
      },
      "outputs": [
        {
          "output_type": "execute_result",
          "data": {
            "text/plain": [
              "(1124, 1)"
            ]
          },
          "metadata": {},
          "execution_count": 33
        }
      ],
      "source": [
        "y_test.shape"
      ]
    },
    {
      "cell_type": "code",
      "execution_count": 34,
      "id": "59ac0849",
      "metadata": {
        "execution": {
          "iopub.execute_input": "2022-10-27T08:44:06.523163Z",
          "iopub.status.busy": "2022-10-27T08:44:06.522276Z",
          "iopub.status.idle": "2022-10-27T08:44:06.759349Z",
          "shell.execute_reply": "2022-10-27T08:44:06.758352Z"
        },
        "id": "59ac0849",
        "papermill": {
          "duration": 0.254387,
          "end_time": "2022-10-27T08:44:06.762450",
          "exception": false,
          "start_time": "2022-10-27T08:44:06.508063",
          "status": "completed"
        },
        "tags": []
      },
      "outputs": [],
      "source": [
        "from sklearn.ensemble import RandomForestRegressor\n",
        "# importing randomforest regressor from ensemble"
      ]
    },
    {
      "cell_type": "code",
      "execution_count": 35,
      "id": "5dc832e8",
      "metadata": {
        "execution": {
          "iopub.execute_input": "2022-10-27T08:44:06.789600Z",
          "iopub.status.busy": "2022-10-27T08:44:06.789107Z",
          "iopub.status.idle": "2022-10-27T08:44:07.852662Z",
          "shell.execute_reply": "2022-10-27T08:44:07.851257Z"
        },
        "id": "5dc832e8",
        "papermill": {
          "duration": 1.08073,
          "end_time": "2022-10-27T08:44:07.855824",
          "exception": false,
          "start_time": "2022-10-27T08:44:06.775094",
          "status": "completed"
        },
        "tags": [],
        "colab": {
          "base_uri": "https://localhost:8080/"
        },
        "outputId": "30429fb1-e427-4482-bb4c-c9fd0a73bd7d"
      },
      "outputs": [
        {
          "output_type": "stream",
          "name": "stderr",
          "text": [
            "<ipython-input-35-def350f6c88f>:2: DataConversionWarning: A column-vector y was passed when a 1d array was expected. Please change the shape of y to (n_samples,), for example using ravel().\n",
            "  mymodel = model.fit(x_train,y_train)\n"
          ]
        }
      ],
      "source": [
        "model = RandomForestRegressor()\n",
        "mymodel = model.fit(x_train,y_train)\n",
        "# training the model"
      ]
    },
    {
      "cell_type": "code",
      "execution_count": 36,
      "id": "5fa976d8",
      "metadata": {
        "execution": {
          "iopub.execute_input": "2022-10-27T08:44:07.885333Z",
          "iopub.status.busy": "2022-10-27T08:44:07.884940Z",
          "iopub.status.idle": "2022-10-27T08:44:07.930460Z",
          "shell.execute_reply": "2022-10-27T08:44:07.929382Z"
        },
        "id": "5fa976d8",
        "papermill": {
          "duration": 0.065005,
          "end_time": "2022-10-27T08:44:07.933833",
          "exception": false,
          "start_time": "2022-10-27T08:44:07.868828",
          "status": "completed"
        },
        "tags": []
      },
      "outputs": [],
      "source": [
        "pred_y = mymodel.predict(x_test)\n",
        "# testing using testing data"
      ]
    },
    {
      "cell_type": "code",
      "execution_count": 37,
      "id": "6a573805",
      "metadata": {
        "execution": {
          "iopub.execute_input": "2022-10-27T08:44:07.962151Z",
          "iopub.status.busy": "2022-10-27T08:44:07.961736Z",
          "iopub.status.idle": "2022-10-27T08:44:07.971632Z",
          "shell.execute_reply": "2022-10-27T08:44:07.970353Z"
        },
        "id": "6a573805",
        "papermill": {
          "duration": 0.026603,
          "end_time": "2022-10-27T08:44:07.974009",
          "exception": false,
          "start_time": "2022-10-27T08:44:07.947406",
          "status": "completed"
        },
        "tags": [],
        "colab": {
          "base_uri": "https://localhost:8080/"
        },
        "outputId": "b0c61da9-5788-47ac-9106-68d854f936c3"
      },
      "outputs": [
        {
          "output_type": "execute_result",
          "data": {
            "text/plain": [
              "0.9998332899208102"
            ]
          },
          "metadata": {},
          "execution_count": 37
        }
      ],
      "source": [
        "from sklearn.metrics import r2_score\n",
        "r2_score(pred_y,y_test)\n",
        "# r2_score is used to check the performance of the model"
      ]
    },
    {
      "cell_type": "code",
      "execution_count": 38,
      "id": "5a0fbe47",
      "metadata": {
        "execution": {
          "iopub.execute_input": "2022-10-27T08:44:08.001663Z",
          "iopub.status.busy": "2022-10-27T08:44:08.001267Z",
          "iopub.status.idle": "2022-10-27T08:44:08.007159Z",
          "shell.execute_reply": "2022-10-27T08:44:08.005647Z"
        },
        "id": "5a0fbe47",
        "papermill": {
          "duration": 0.022952,
          "end_time": "2022-10-27T08:44:08.009941",
          "exception": false,
          "start_time": "2022-10-27T08:44:07.986989",
          "status": "completed"
        },
        "tags": []
      },
      "outputs": [],
      "source": [
        "# Accuracy of our model is 0.9998685435063304"
      ]
    }
  ],
  "metadata": {
    "kernelspec": {
      "display_name": "Python 3",
      "language": "python",
      "name": "python3"
    },
    "language_info": {
      "codemirror_mode": {
        "name": "ipython",
        "version": 3
      },
      "file_extension": ".py",
      "mimetype": "text/x-python",
      "name": "python",
      "nbconvert_exporter": "python",
      "pygments_lexer": "ipython3",
      "version": "3.7.12"
    },
    "papermill": {
      "default_parameters": {},
      "duration": 15.443496,
      "end_time": "2022-10-27T08:44:09.147625",
      "environment_variables": {},
      "exception": null,
      "input_path": "__notebook__.ipynb",
      "output_path": "__notebook__.ipynb",
      "parameters": {},
      "start_time": "2022-10-27T08:43:53.704129",
      "version": "2.3.4"
    },
    "colab": {
      "provenance": []
    }
  },
  "nbformat": 4,
  "nbformat_minor": 5
}